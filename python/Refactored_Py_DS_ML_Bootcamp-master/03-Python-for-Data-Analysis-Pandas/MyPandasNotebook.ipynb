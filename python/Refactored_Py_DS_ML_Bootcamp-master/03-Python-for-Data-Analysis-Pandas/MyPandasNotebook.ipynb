{
 "cells": [
  {
   "cell_type": "markdown",
   "id": "45fc2616-b41a-4042-b07a-788e4075717e",
   "metadata": {},
   "source": [
    "# Pandas"
   ]
  },
  {
   "cell_type": "code",
   "execution_count": 16,
   "id": "3e6b512d-24be-434b-bb9f-4457af32a6b8",
   "metadata": {},
   "outputs": [],
   "source": [
    "import numpy as np"
   ]
  },
  {
   "cell_type": "code",
   "execution_count": 18,
   "id": "ba01af5a-622a-4f03-82d3-4ab105ea36f5",
   "metadata": {},
   "outputs": [],
   "source": [
    "import pandas as pd"
   ]
  },
  {
   "cell_type": "code",
   "execution_count": 20,
   "id": "6b965f46-29ae-457d-9685-53cd6b29e96b",
   "metadata": {},
   "outputs": [],
   "source": [
    "labels = ['a','b','c']\n",
    "my_data = [1,2,3]\n",
    "d = {'a': 1, 'b': 2, 'c': 3}"
   ]
  },
  {
   "cell_type": "code",
   "execution_count": 22,
   "id": "3002e168-0ce3-4845-aadc-b099c146dff5",
   "metadata": {},
   "outputs": [],
   "source": [
    "arr = np.array(my_data)"
   ]
  },
  {
   "cell_type": "code",
   "execution_count": 28,
   "id": "7570ad2f-b25e-4a10-afb4-79221b7d208a",
   "metadata": {},
   "outputs": [
    {
     "data": {
      "text/plain": [
       "array([1, 2, 3])"
      ]
     },
     "execution_count": 28,
     "metadata": {},
     "output_type": "execute_result"
    }
   ],
   "source": [
    "arr"
   ]
  },
  {
   "cell_type": "markdown",
   "id": "578b21d9-c4af-4840-9886-c21f13b63237",
   "metadata": {},
   "source": [
    "# Series"
   ]
  },
  {
   "cell_type": "code",
   "execution_count": 26,
   "id": "feec46c8-71e2-4a17-942b-7dc3369e8fac",
   "metadata": {},
   "outputs": [
    {
     "data": {
      "text/plain": [
       "0    1\n",
       "1    2\n",
       "2    3\n",
       "dtype: int64"
      ]
     },
     "execution_count": 26,
     "metadata": {},
     "output_type": "execute_result"
    }
   ],
   "source": [
    "pd.Series(data = my_data)"
   ]
  },
  {
   "cell_type": "code",
   "execution_count": 31,
   "id": "06566271-7e2b-46d6-8ec9-2f8e5f5530ca",
   "metadata": {},
   "outputs": [
    {
     "data": {
      "text/plain": [
       "a    1\n",
       "b    2\n",
       "c    3\n",
       "dtype: int64"
      ]
     },
     "execution_count": 31,
     "metadata": {},
     "output_type": "execute_result"
    }
   ],
   "source": [
    "pd.Series(data = my_data, index = labels)"
   ]
  },
  {
   "cell_type": "code",
   "execution_count": 33,
   "id": "ce39c385-bbb4-4759-9a10-f7f135cc9aaa",
   "metadata": {},
   "outputs": [
    {
     "data": {
      "text/plain": [
       "a    1\n",
       "b    2\n",
       "c    3\n",
       "dtype: int64"
      ]
     },
     "execution_count": 33,
     "metadata": {},
     "output_type": "execute_result"
    }
   ],
   "source": [
    "pd.Series(d)"
   ]
  },
  {
   "cell_type": "code",
   "execution_count": 35,
   "id": "f1c2e3b6-4ac5-4928-a912-552798c04bda",
   "metadata": {},
   "outputs": [
    {
     "data": {
      "text/plain": [
       "{'a': 1, 'b': 2, 'c': 3}"
      ]
     },
     "execution_count": 35,
     "metadata": {},
     "output_type": "execute_result"
    }
   ],
   "source": [
    "d"
   ]
  },
  {
   "cell_type": "code",
   "execution_count": 37,
   "id": "00cbd4da-0a75-414d-9d3a-1edec8475ae3",
   "metadata": {},
   "outputs": [
    {
     "data": {
      "text/plain": [
       "['a', 'b', 'c']"
      ]
     },
     "execution_count": 37,
     "metadata": {},
     "output_type": "execute_result"
    }
   ],
   "source": [
    "labels"
   ]
  },
  {
   "cell_type": "code",
   "execution_count": 41,
   "id": "f7386e90-4743-45e0-b55a-08676c743606",
   "metadata": {},
   "outputs": [
    {
     "data": {
      "text/plain": [
       "0      <built-in function sum>\n",
       "1    <built-in function print>\n",
       "2      <built-in function len>\n",
       "dtype: object"
      ]
     },
     "execution_count": 41,
     "metadata": {},
     "output_type": "execute_result"
    }
   ],
   "source": [
    "pd.Series(data = [sum,print,len])"
   ]
  },
  {
   "cell_type": "code",
   "execution_count": 51,
   "id": "31a9d50e-3c22-4824-9c35-c5290bcbf600",
   "metadata": {},
   "outputs": [],
   "source": [
    "sr1 = pd.Series([1,2,3],['USA','Italy','India'])"
   ]
  },
  {
   "cell_type": "code",
   "execution_count": 53,
   "id": "7bdb356c-e797-41ae-8e2a-2cd00960c9da",
   "metadata": {},
   "outputs": [
    {
     "data": {
      "text/plain": [
       "USA      1\n",
       "Italy    2\n",
       "India    3\n",
       "dtype: int64"
      ]
     },
     "execution_count": 53,
     "metadata": {},
     "output_type": "execute_result"
    }
   ],
   "source": [
    "sr1"
   ]
  },
  {
   "cell_type": "code",
   "execution_count": 55,
   "id": "a756ec22-f605-40da-97ed-cdc19b93d67c",
   "metadata": {},
   "outputs": [],
   "source": [
    "sr2 = pd.Series([1,2,3],['USA','USSR','India'])"
   ]
  },
  {
   "cell_type": "code",
   "execution_count": 57,
   "id": "e66c059f-173c-447c-9d16-828d4ea45f97",
   "metadata": {},
   "outputs": [
    {
     "data": {
      "text/plain": [
       "USA      1\n",
       "USSR     2\n",
       "India    3\n",
       "dtype: int64"
      ]
     },
     "execution_count": 57,
     "metadata": {},
     "output_type": "execute_result"
    }
   ],
   "source": [
    "sr2"
   ]
  },
  {
   "cell_type": "code",
   "execution_count": 59,
   "id": "ca9bb372-2c66-4cea-86bb-b594710fce7f",
   "metadata": {},
   "outputs": [
    {
     "data": {
      "text/plain": [
       "India    6.0\n",
       "Italy    NaN\n",
       "USA      2.0\n",
       "USSR     NaN\n",
       "dtype: float64"
      ]
     },
     "execution_count": 59,
     "metadata": {},
     "output_type": "execute_result"
    }
   ],
   "source": [
    "sr1 + sr2"
   ]
  },
  {
   "cell_type": "markdown",
   "id": "b8791365-3389-47ad-9ab9-b2fdee687ef7",
   "metadata": {},
   "source": [
    "# DataFrames"
   ]
  },
  {
   "cell_type": "code",
   "execution_count": 62,
   "id": "10a76187-59b4-44b0-8174-3b00a67b073a",
   "metadata": {},
   "outputs": [],
   "source": [
    "from numpy.random import randn"
   ]
  },
  {
   "cell_type": "code",
   "execution_count": 64,
   "id": "be6f6377-dc8d-47ad-b903-f561d1e8a837",
   "metadata": {},
   "outputs": [],
   "source": [
    "np.random.seed(101)"
   ]
  },
  {
   "cell_type": "code",
   "execution_count": 66,
   "id": "7cdf6ef0-c9ec-4a61-922e-5768cecb4165",
   "metadata": {},
   "outputs": [],
   "source": [
    "df = pd.DataFrame(randn(5,4),['A','B','C','D','E'],['W','X','Y','Z'])"
   ]
  },
  {
   "cell_type": "code",
   "execution_count": 68,
   "id": "93a549e8-483a-46c5-a908-8e74ef99709c",
   "metadata": {},
   "outputs": [
    {
     "data": {
      "text/html": [
       "<div>\n",
       "<style scoped>\n",
       "    .dataframe tbody tr th:only-of-type {\n",
       "        vertical-align: middle;\n",
       "    }\n",
       "\n",
       "    .dataframe tbody tr th {\n",
       "        vertical-align: top;\n",
       "    }\n",
       "\n",
       "    .dataframe thead th {\n",
       "        text-align: right;\n",
       "    }\n",
       "</style>\n",
       "<table border=\"1\" class=\"dataframe\">\n",
       "  <thead>\n",
       "    <tr style=\"text-align: right;\">\n",
       "      <th></th>\n",
       "      <th>W</th>\n",
       "      <th>X</th>\n",
       "      <th>Y</th>\n",
       "      <th>Z</th>\n",
       "    </tr>\n",
       "  </thead>\n",
       "  <tbody>\n",
       "    <tr>\n",
       "      <th>A</th>\n",
       "      <td>2.706850</td>\n",
       "      <td>0.628133</td>\n",
       "      <td>0.907969</td>\n",
       "      <td>0.503826</td>\n",
       "    </tr>\n",
       "    <tr>\n",
       "      <th>B</th>\n",
       "      <td>0.651118</td>\n",
       "      <td>-0.319318</td>\n",
       "      <td>-0.848077</td>\n",
       "      <td>0.605965</td>\n",
       "    </tr>\n",
       "    <tr>\n",
       "      <th>C</th>\n",
       "      <td>-2.018168</td>\n",
       "      <td>0.740122</td>\n",
       "      <td>0.528813</td>\n",
       "      <td>-0.589001</td>\n",
       "    </tr>\n",
       "    <tr>\n",
       "      <th>D</th>\n",
       "      <td>0.188695</td>\n",
       "      <td>-0.758872</td>\n",
       "      <td>-0.933237</td>\n",
       "      <td>0.955057</td>\n",
       "    </tr>\n",
       "    <tr>\n",
       "      <th>E</th>\n",
       "      <td>0.190794</td>\n",
       "      <td>1.978757</td>\n",
       "      <td>2.605967</td>\n",
       "      <td>0.683509</td>\n",
       "    </tr>\n",
       "  </tbody>\n",
       "</table>\n",
       "</div>"
      ],
      "text/plain": [
       "          W         X         Y         Z\n",
       "A  2.706850  0.628133  0.907969  0.503826\n",
       "B  0.651118 -0.319318 -0.848077  0.605965\n",
       "C -2.018168  0.740122  0.528813 -0.589001\n",
       "D  0.188695 -0.758872 -0.933237  0.955057\n",
       "E  0.190794  1.978757  2.605967  0.683509"
      ]
     },
     "execution_count": 68,
     "metadata": {},
     "output_type": "execute_result"
    }
   ],
   "source": [
    "df"
   ]
  },
  {
   "cell_type": "code",
   "execution_count": 70,
   "id": "70c235e1-c269-4231-ae9f-ecf7a66f72b8",
   "metadata": {},
   "outputs": [
    {
     "data": {
      "text/plain": [
       "A    2.706850\n",
       "B    0.651118\n",
       "C   -2.018168\n",
       "D    0.188695\n",
       "E    0.190794\n",
       "Name: W, dtype: float64"
      ]
     },
     "execution_count": 70,
     "metadata": {},
     "output_type": "execute_result"
    }
   ],
   "source": [
    "df['W']"
   ]
  },
  {
   "cell_type": "code",
   "execution_count": 72,
   "id": "f0d90feb-eaf4-43a5-9b75-31c7f39d4c57",
   "metadata": {},
   "outputs": [
    {
     "data": {
      "text/plain": [
       "pandas.core.series.Series"
      ]
     },
     "execution_count": 72,
     "metadata": {},
     "output_type": "execute_result"
    }
   ],
   "source": [
    "type(df['W'])"
   ]
  },
  {
   "cell_type": "code",
   "execution_count": 74,
   "id": "0b641b09-e3e3-4601-b197-4a9060a37845",
   "metadata": {},
   "outputs": [
    {
     "data": {
      "text/plain": [
       "pandas.core.frame.DataFrame"
      ]
     },
     "execution_count": 74,
     "metadata": {},
     "output_type": "execute_result"
    }
   ],
   "source": [
    "type(df)"
   ]
  },
  {
   "cell_type": "code",
   "execution_count": 76,
   "id": "83c0689e-a10a-493b-8a26-dbb1adb0dea2",
   "metadata": {},
   "outputs": [
    {
     "data": {
      "text/html": [
       "<div>\n",
       "<style scoped>\n",
       "    .dataframe tbody tr th:only-of-type {\n",
       "        vertical-align: middle;\n",
       "    }\n",
       "\n",
       "    .dataframe tbody tr th {\n",
       "        vertical-align: top;\n",
       "    }\n",
       "\n",
       "    .dataframe thead th {\n",
       "        text-align: right;\n",
       "    }\n",
       "</style>\n",
       "<table border=\"1\" class=\"dataframe\">\n",
       "  <thead>\n",
       "    <tr style=\"text-align: right;\">\n",
       "      <th></th>\n",
       "      <th>W</th>\n",
       "      <th>Z</th>\n",
       "    </tr>\n",
       "  </thead>\n",
       "  <tbody>\n",
       "    <tr>\n",
       "      <th>A</th>\n",
       "      <td>2.706850</td>\n",
       "      <td>0.503826</td>\n",
       "    </tr>\n",
       "    <tr>\n",
       "      <th>B</th>\n",
       "      <td>0.651118</td>\n",
       "      <td>0.605965</td>\n",
       "    </tr>\n",
       "    <tr>\n",
       "      <th>C</th>\n",
       "      <td>-2.018168</td>\n",
       "      <td>-0.589001</td>\n",
       "    </tr>\n",
       "    <tr>\n",
       "      <th>D</th>\n",
       "      <td>0.188695</td>\n",
       "      <td>0.955057</td>\n",
       "    </tr>\n",
       "    <tr>\n",
       "      <th>E</th>\n",
       "      <td>0.190794</td>\n",
       "      <td>0.683509</td>\n",
       "    </tr>\n",
       "  </tbody>\n",
       "</table>\n",
       "</div>"
      ],
      "text/plain": [
       "          W         Z\n",
       "A  2.706850  0.503826\n",
       "B  0.651118  0.605965\n",
       "C -2.018168 -0.589001\n",
       "D  0.188695  0.955057\n",
       "E  0.190794  0.683509"
      ]
     },
     "execution_count": 76,
     "metadata": {},
     "output_type": "execute_result"
    }
   ],
   "source": [
    "df[['W','Z']]"
   ]
  },
  {
   "cell_type": "code",
   "execution_count": 80,
   "id": "58e53898-33af-4051-bfdf-cbe469bd453d",
   "metadata": {},
   "outputs": [],
   "source": [
    "df['new'] = df['W'] + df['Z']"
   ]
  },
  {
   "cell_type": "code",
   "execution_count": 82,
   "id": "6895edcc-565d-46ec-82c9-df457b5bddd1",
   "metadata": {},
   "outputs": [
    {
     "data": {
      "text/html": [
       "<div>\n",
       "<style scoped>\n",
       "    .dataframe tbody tr th:only-of-type {\n",
       "        vertical-align: middle;\n",
       "    }\n",
       "\n",
       "    .dataframe tbody tr th {\n",
       "        vertical-align: top;\n",
       "    }\n",
       "\n",
       "    .dataframe thead th {\n",
       "        text-align: right;\n",
       "    }\n",
       "</style>\n",
       "<table border=\"1\" class=\"dataframe\">\n",
       "  <thead>\n",
       "    <tr style=\"text-align: right;\">\n",
       "      <th></th>\n",
       "      <th>W</th>\n",
       "      <th>X</th>\n",
       "      <th>Y</th>\n",
       "      <th>Z</th>\n",
       "      <th>new</th>\n",
       "    </tr>\n",
       "  </thead>\n",
       "  <tbody>\n",
       "    <tr>\n",
       "      <th>A</th>\n",
       "      <td>2.706850</td>\n",
       "      <td>0.628133</td>\n",
       "      <td>0.907969</td>\n",
       "      <td>0.503826</td>\n",
       "      <td>3.210676</td>\n",
       "    </tr>\n",
       "    <tr>\n",
       "      <th>B</th>\n",
       "      <td>0.651118</td>\n",
       "      <td>-0.319318</td>\n",
       "      <td>-0.848077</td>\n",
       "      <td>0.605965</td>\n",
       "      <td>1.257083</td>\n",
       "    </tr>\n",
       "    <tr>\n",
       "      <th>C</th>\n",
       "      <td>-2.018168</td>\n",
       "      <td>0.740122</td>\n",
       "      <td>0.528813</td>\n",
       "      <td>-0.589001</td>\n",
       "      <td>-2.607169</td>\n",
       "    </tr>\n",
       "    <tr>\n",
       "      <th>D</th>\n",
       "      <td>0.188695</td>\n",
       "      <td>-0.758872</td>\n",
       "      <td>-0.933237</td>\n",
       "      <td>0.955057</td>\n",
       "      <td>1.143752</td>\n",
       "    </tr>\n",
       "    <tr>\n",
       "      <th>E</th>\n",
       "      <td>0.190794</td>\n",
       "      <td>1.978757</td>\n",
       "      <td>2.605967</td>\n",
       "      <td>0.683509</td>\n",
       "      <td>0.874303</td>\n",
       "    </tr>\n",
       "  </tbody>\n",
       "</table>\n",
       "</div>"
      ],
      "text/plain": [
       "          W         X         Y         Z       new\n",
       "A  2.706850  0.628133  0.907969  0.503826  3.210676\n",
       "B  0.651118 -0.319318 -0.848077  0.605965  1.257083\n",
       "C -2.018168  0.740122  0.528813 -0.589001 -2.607169\n",
       "D  0.188695 -0.758872 -0.933237  0.955057  1.143752\n",
       "E  0.190794  1.978757  2.605967  0.683509  0.874303"
      ]
     },
     "execution_count": 82,
     "metadata": {},
     "output_type": "execute_result"
    }
   ],
   "source": [
    "df"
   ]
  },
  {
   "cell_type": "code",
   "execution_count": 86,
   "id": "bf048de4-62c0-4654-827a-9a0ac638d197",
   "metadata": {},
   "outputs": [
    {
     "data": {
      "text/html": [
       "<div>\n",
       "<style scoped>\n",
       "    .dataframe tbody tr th:only-of-type {\n",
       "        vertical-align: middle;\n",
       "    }\n",
       "\n",
       "    .dataframe tbody tr th {\n",
       "        vertical-align: top;\n",
       "    }\n",
       "\n",
       "    .dataframe thead th {\n",
       "        text-align: right;\n",
       "    }\n",
       "</style>\n",
       "<table border=\"1\" class=\"dataframe\">\n",
       "  <thead>\n",
       "    <tr style=\"text-align: right;\">\n",
       "      <th></th>\n",
       "      <th>W</th>\n",
       "      <th>X</th>\n",
       "      <th>Y</th>\n",
       "      <th>Z</th>\n",
       "    </tr>\n",
       "  </thead>\n",
       "  <tbody>\n",
       "    <tr>\n",
       "      <th>A</th>\n",
       "      <td>2.706850</td>\n",
       "      <td>0.628133</td>\n",
       "      <td>0.907969</td>\n",
       "      <td>0.503826</td>\n",
       "    </tr>\n",
       "    <tr>\n",
       "      <th>B</th>\n",
       "      <td>0.651118</td>\n",
       "      <td>-0.319318</td>\n",
       "      <td>-0.848077</td>\n",
       "      <td>0.605965</td>\n",
       "    </tr>\n",
       "    <tr>\n",
       "      <th>C</th>\n",
       "      <td>-2.018168</td>\n",
       "      <td>0.740122</td>\n",
       "      <td>0.528813</td>\n",
       "      <td>-0.589001</td>\n",
       "    </tr>\n",
       "    <tr>\n",
       "      <th>D</th>\n",
       "      <td>0.188695</td>\n",
       "      <td>-0.758872</td>\n",
       "      <td>-0.933237</td>\n",
       "      <td>0.955057</td>\n",
       "    </tr>\n",
       "    <tr>\n",
       "      <th>E</th>\n",
       "      <td>0.190794</td>\n",
       "      <td>1.978757</td>\n",
       "      <td>2.605967</td>\n",
       "      <td>0.683509</td>\n",
       "    </tr>\n",
       "  </tbody>\n",
       "</table>\n",
       "</div>"
      ],
      "text/plain": [
       "          W         X         Y         Z\n",
       "A  2.706850  0.628133  0.907969  0.503826\n",
       "B  0.651118 -0.319318 -0.848077  0.605965\n",
       "C -2.018168  0.740122  0.528813 -0.589001\n",
       "D  0.188695 -0.758872 -0.933237  0.955057\n",
       "E  0.190794  1.978757  2.605967  0.683509"
      ]
     },
     "execution_count": 86,
     "metadata": {},
     "output_type": "execute_result"
    }
   ],
   "source": [
    "df.drop('new', axis = 1)"
   ]
  },
  {
   "cell_type": "code",
   "execution_count": 88,
   "id": "356a5940-f331-416d-8844-33c071664a39",
   "metadata": {},
   "outputs": [
    {
     "data": {
      "text/html": [
       "<div>\n",
       "<style scoped>\n",
       "    .dataframe tbody tr th:only-of-type {\n",
       "        vertical-align: middle;\n",
       "    }\n",
       "\n",
       "    .dataframe tbody tr th {\n",
       "        vertical-align: top;\n",
       "    }\n",
       "\n",
       "    .dataframe thead th {\n",
       "        text-align: right;\n",
       "    }\n",
       "</style>\n",
       "<table border=\"1\" class=\"dataframe\">\n",
       "  <thead>\n",
       "    <tr style=\"text-align: right;\">\n",
       "      <th></th>\n",
       "      <th>W</th>\n",
       "      <th>X</th>\n",
       "      <th>Y</th>\n",
       "      <th>Z</th>\n",
       "      <th>new</th>\n",
       "    </tr>\n",
       "  </thead>\n",
       "  <tbody>\n",
       "    <tr>\n",
       "      <th>A</th>\n",
       "      <td>2.706850</td>\n",
       "      <td>0.628133</td>\n",
       "      <td>0.907969</td>\n",
       "      <td>0.503826</td>\n",
       "      <td>3.210676</td>\n",
       "    </tr>\n",
       "    <tr>\n",
       "      <th>B</th>\n",
       "      <td>0.651118</td>\n",
       "      <td>-0.319318</td>\n",
       "      <td>-0.848077</td>\n",
       "      <td>0.605965</td>\n",
       "      <td>1.257083</td>\n",
       "    </tr>\n",
       "    <tr>\n",
       "      <th>C</th>\n",
       "      <td>-2.018168</td>\n",
       "      <td>0.740122</td>\n",
       "      <td>0.528813</td>\n",
       "      <td>-0.589001</td>\n",
       "      <td>-2.607169</td>\n",
       "    </tr>\n",
       "    <tr>\n",
       "      <th>D</th>\n",
       "      <td>0.188695</td>\n",
       "      <td>-0.758872</td>\n",
       "      <td>-0.933237</td>\n",
       "      <td>0.955057</td>\n",
       "      <td>1.143752</td>\n",
       "    </tr>\n",
       "    <tr>\n",
       "      <th>E</th>\n",
       "      <td>0.190794</td>\n",
       "      <td>1.978757</td>\n",
       "      <td>2.605967</td>\n",
       "      <td>0.683509</td>\n",
       "      <td>0.874303</td>\n",
       "    </tr>\n",
       "  </tbody>\n",
       "</table>\n",
       "</div>"
      ],
      "text/plain": [
       "          W         X         Y         Z       new\n",
       "A  2.706850  0.628133  0.907969  0.503826  3.210676\n",
       "B  0.651118 -0.319318 -0.848077  0.605965  1.257083\n",
       "C -2.018168  0.740122  0.528813 -0.589001 -2.607169\n",
       "D  0.188695 -0.758872 -0.933237  0.955057  1.143752\n",
       "E  0.190794  1.978757  2.605967  0.683509  0.874303"
      ]
     },
     "execution_count": 88,
     "metadata": {},
     "output_type": "execute_result"
    }
   ],
   "source": [
    "df"
   ]
  },
  {
   "cell_type": "code",
   "execution_count": 90,
   "id": "a228d2b1-6bac-43d6-88ad-7c92f89fd1a6",
   "metadata": {},
   "outputs": [],
   "source": [
    "df.drop('new', axis = 1, inplace = True)"
   ]
  },
  {
   "cell_type": "code",
   "execution_count": 92,
   "id": "010663ce-4975-4f88-b1a1-4e195aeacfa3",
   "metadata": {},
   "outputs": [
    {
     "data": {
      "text/html": [
       "<div>\n",
       "<style scoped>\n",
       "    .dataframe tbody tr th:only-of-type {\n",
       "        vertical-align: middle;\n",
       "    }\n",
       "\n",
       "    .dataframe tbody tr th {\n",
       "        vertical-align: top;\n",
       "    }\n",
       "\n",
       "    .dataframe thead th {\n",
       "        text-align: right;\n",
       "    }\n",
       "</style>\n",
       "<table border=\"1\" class=\"dataframe\">\n",
       "  <thead>\n",
       "    <tr style=\"text-align: right;\">\n",
       "      <th></th>\n",
       "      <th>W</th>\n",
       "      <th>X</th>\n",
       "      <th>Y</th>\n",
       "      <th>Z</th>\n",
       "    </tr>\n",
       "  </thead>\n",
       "  <tbody>\n",
       "    <tr>\n",
       "      <th>A</th>\n",
       "      <td>2.706850</td>\n",
       "      <td>0.628133</td>\n",
       "      <td>0.907969</td>\n",
       "      <td>0.503826</td>\n",
       "    </tr>\n",
       "    <tr>\n",
       "      <th>B</th>\n",
       "      <td>0.651118</td>\n",
       "      <td>-0.319318</td>\n",
       "      <td>-0.848077</td>\n",
       "      <td>0.605965</td>\n",
       "    </tr>\n",
       "    <tr>\n",
       "      <th>C</th>\n",
       "      <td>-2.018168</td>\n",
       "      <td>0.740122</td>\n",
       "      <td>0.528813</td>\n",
       "      <td>-0.589001</td>\n",
       "    </tr>\n",
       "    <tr>\n",
       "      <th>D</th>\n",
       "      <td>0.188695</td>\n",
       "      <td>-0.758872</td>\n",
       "      <td>-0.933237</td>\n",
       "      <td>0.955057</td>\n",
       "    </tr>\n",
       "    <tr>\n",
       "      <th>E</th>\n",
       "      <td>0.190794</td>\n",
       "      <td>1.978757</td>\n",
       "      <td>2.605967</td>\n",
       "      <td>0.683509</td>\n",
       "    </tr>\n",
       "  </tbody>\n",
       "</table>\n",
       "</div>"
      ],
      "text/plain": [
       "          W         X         Y         Z\n",
       "A  2.706850  0.628133  0.907969  0.503826\n",
       "B  0.651118 -0.319318 -0.848077  0.605965\n",
       "C -2.018168  0.740122  0.528813 -0.589001\n",
       "D  0.188695 -0.758872 -0.933237  0.955057\n",
       "E  0.190794  1.978757  2.605967  0.683509"
      ]
     },
     "execution_count": 92,
     "metadata": {},
     "output_type": "execute_result"
    }
   ],
   "source": [
    "df"
   ]
  },
  {
   "cell_type": "markdown",
   "id": "853e691a-4e48-4f74-b53b-082134b4f56d",
   "metadata": {},
   "source": [
    "# Row"
   ]
  },
  {
   "cell_type": "code",
   "execution_count": 97,
   "id": "2e65fede-9759-45cb-a142-0c9e8c8a9545",
   "metadata": {},
   "outputs": [
    {
     "data": {
      "text/plain": [
       "W   -2.018168\n",
       "X    0.740122\n",
       "Y    0.528813\n",
       "Z   -0.589001\n",
       "Name: C, dtype: float64"
      ]
     },
     "execution_count": 97,
     "metadata": {},
     "output_type": "execute_result"
    }
   ],
   "source": [
    "df.loc['C']"
   ]
  },
  {
   "cell_type": "code",
   "execution_count": 99,
   "id": "820675fa-1b50-4c38-b7f8-9f5ae5d908c2",
   "metadata": {},
   "outputs": [
    {
     "data": {
      "text/plain": [
       "W   -2.018168\n",
       "X    0.740122\n",
       "Y    0.528813\n",
       "Z   -0.589001\n",
       "Name: C, dtype: float64"
      ]
     },
     "execution_count": 99,
     "metadata": {},
     "output_type": "execute_result"
    }
   ],
   "source": [
    "df.iloc[2]"
   ]
  },
  {
   "cell_type": "code",
   "execution_count": 101,
   "id": "f7530b77-8f10-4e46-aedc-90bcff9a4770",
   "metadata": {},
   "outputs": [
    {
     "data": {
      "text/plain": [
       "0.5288134940893595"
      ]
     },
     "execution_count": 101,
     "metadata": {},
     "output_type": "execute_result"
    }
   ],
   "source": [
    "df.loc['C','Y']"
   ]
  },
  {
   "cell_type": "code",
   "execution_count": 105,
   "id": "f5df7d48-5751-4153-aa60-777080405e4b",
   "metadata": {},
   "outputs": [
    {
     "data": {
      "text/html": [
       "<div>\n",
       "<style scoped>\n",
       "    .dataframe tbody tr th:only-of-type {\n",
       "        vertical-align: middle;\n",
       "    }\n",
       "\n",
       "    .dataframe tbody tr th {\n",
       "        vertical-align: top;\n",
       "    }\n",
       "\n",
       "    .dataframe thead th {\n",
       "        text-align: right;\n",
       "    }\n",
       "</style>\n",
       "<table border=\"1\" class=\"dataframe\">\n",
       "  <thead>\n",
       "    <tr style=\"text-align: right;\">\n",
       "      <th></th>\n",
       "      <th>X</th>\n",
       "      <th>Z</th>\n",
       "    </tr>\n",
       "  </thead>\n",
       "  <tbody>\n",
       "    <tr>\n",
       "      <th>A</th>\n",
       "      <td>0.628133</td>\n",
       "      <td>0.503826</td>\n",
       "    </tr>\n",
       "    <tr>\n",
       "      <th>B</th>\n",
       "      <td>-0.319318</td>\n",
       "      <td>0.605965</td>\n",
       "    </tr>\n",
       "  </tbody>\n",
       "</table>\n",
       "</div>"
      ],
      "text/plain": [
       "          X         Z\n",
       "A  0.628133  0.503826\n",
       "B -0.319318  0.605965"
      ]
     },
     "execution_count": 105,
     "metadata": {},
     "output_type": "execute_result"
    }
   ],
   "source": [
    "df.loc[['A', 'B'], ['X','Z']]"
   ]
  },
  {
   "cell_type": "markdown",
   "id": "3ca9f40d-0a08-4bb1-a538-ec1cf769af17",
   "metadata": {},
   "source": [
    "# Conditional"
   ]
  },
  {
   "cell_type": "code",
   "execution_count": 108,
   "id": "e523e378-76d9-49e7-b504-4ac94a5103ac",
   "metadata": {},
   "outputs": [
    {
     "data": {
      "text/html": [
       "<div>\n",
       "<style scoped>\n",
       "    .dataframe tbody tr th:only-of-type {\n",
       "        vertical-align: middle;\n",
       "    }\n",
       "\n",
       "    .dataframe tbody tr th {\n",
       "        vertical-align: top;\n",
       "    }\n",
       "\n",
       "    .dataframe thead th {\n",
       "        text-align: right;\n",
       "    }\n",
       "</style>\n",
       "<table border=\"1\" class=\"dataframe\">\n",
       "  <thead>\n",
       "    <tr style=\"text-align: right;\">\n",
       "      <th></th>\n",
       "      <th>W</th>\n",
       "      <th>X</th>\n",
       "      <th>Y</th>\n",
       "      <th>Z</th>\n",
       "    </tr>\n",
       "  </thead>\n",
       "  <tbody>\n",
       "    <tr>\n",
       "      <th>A</th>\n",
       "      <td>True</td>\n",
       "      <td>True</td>\n",
       "      <td>True</td>\n",
       "      <td>True</td>\n",
       "    </tr>\n",
       "    <tr>\n",
       "      <th>B</th>\n",
       "      <td>True</td>\n",
       "      <td>False</td>\n",
       "      <td>False</td>\n",
       "      <td>True</td>\n",
       "    </tr>\n",
       "    <tr>\n",
       "      <th>C</th>\n",
       "      <td>False</td>\n",
       "      <td>True</td>\n",
       "      <td>True</td>\n",
       "      <td>False</td>\n",
       "    </tr>\n",
       "    <tr>\n",
       "      <th>D</th>\n",
       "      <td>True</td>\n",
       "      <td>False</td>\n",
       "      <td>False</td>\n",
       "      <td>True</td>\n",
       "    </tr>\n",
       "    <tr>\n",
       "      <th>E</th>\n",
       "      <td>True</td>\n",
       "      <td>True</td>\n",
       "      <td>True</td>\n",
       "      <td>True</td>\n",
       "    </tr>\n",
       "  </tbody>\n",
       "</table>\n",
       "</div>"
      ],
      "text/plain": [
       "       W      X      Y      Z\n",
       "A   True   True   True   True\n",
       "B   True  False  False   True\n",
       "C  False   True   True  False\n",
       "D   True  False  False   True\n",
       "E   True   True   True   True"
      ]
     },
     "execution_count": 108,
     "metadata": {},
     "output_type": "execute_result"
    }
   ],
   "source": [
    "df > 0"
   ]
  },
  {
   "cell_type": "code",
   "execution_count": 110,
   "id": "bb92bd87-2cd6-475e-a6bd-a739e5a30a2f",
   "metadata": {},
   "outputs": [],
   "source": [
    "booldf = df > 0"
   ]
  },
  {
   "cell_type": "code",
   "execution_count": 112,
   "id": "66035aae-a91d-48ba-84e2-9a1596b48e5f",
   "metadata": {},
   "outputs": [
    {
     "data": {
      "text/html": [
       "<div>\n",
       "<style scoped>\n",
       "    .dataframe tbody tr th:only-of-type {\n",
       "        vertical-align: middle;\n",
       "    }\n",
       "\n",
       "    .dataframe tbody tr th {\n",
       "        vertical-align: top;\n",
       "    }\n",
       "\n",
       "    .dataframe thead th {\n",
       "        text-align: right;\n",
       "    }\n",
       "</style>\n",
       "<table border=\"1\" class=\"dataframe\">\n",
       "  <thead>\n",
       "    <tr style=\"text-align: right;\">\n",
       "      <th></th>\n",
       "      <th>W</th>\n",
       "      <th>X</th>\n",
       "      <th>Y</th>\n",
       "      <th>Z</th>\n",
       "    </tr>\n",
       "  </thead>\n",
       "  <tbody>\n",
       "    <tr>\n",
       "      <th>A</th>\n",
       "      <td>True</td>\n",
       "      <td>True</td>\n",
       "      <td>True</td>\n",
       "      <td>True</td>\n",
       "    </tr>\n",
       "    <tr>\n",
       "      <th>B</th>\n",
       "      <td>True</td>\n",
       "      <td>False</td>\n",
       "      <td>False</td>\n",
       "      <td>True</td>\n",
       "    </tr>\n",
       "    <tr>\n",
       "      <th>C</th>\n",
       "      <td>False</td>\n",
       "      <td>True</td>\n",
       "      <td>True</td>\n",
       "      <td>False</td>\n",
       "    </tr>\n",
       "    <tr>\n",
       "      <th>D</th>\n",
       "      <td>True</td>\n",
       "      <td>False</td>\n",
       "      <td>False</td>\n",
       "      <td>True</td>\n",
       "    </tr>\n",
       "    <tr>\n",
       "      <th>E</th>\n",
       "      <td>True</td>\n",
       "      <td>True</td>\n",
       "      <td>True</td>\n",
       "      <td>True</td>\n",
       "    </tr>\n",
       "  </tbody>\n",
       "</table>\n",
       "</div>"
      ],
      "text/plain": [
       "       W      X      Y      Z\n",
       "A   True   True   True   True\n",
       "B   True  False  False   True\n",
       "C  False   True   True  False\n",
       "D   True  False  False   True\n",
       "E   True   True   True   True"
      ]
     },
     "execution_count": 112,
     "metadata": {},
     "output_type": "execute_result"
    }
   ],
   "source": [
    "booldf"
   ]
  },
  {
   "cell_type": "code",
   "execution_count": 114,
   "id": "c020f32a-193f-4944-bfff-32f057d8eba9",
   "metadata": {},
   "outputs": [
    {
     "data": {
      "text/html": [
       "<div>\n",
       "<style scoped>\n",
       "    .dataframe tbody tr th:only-of-type {\n",
       "        vertical-align: middle;\n",
       "    }\n",
       "\n",
       "    .dataframe tbody tr th {\n",
       "        vertical-align: top;\n",
       "    }\n",
       "\n",
       "    .dataframe thead th {\n",
       "        text-align: right;\n",
       "    }\n",
       "</style>\n",
       "<table border=\"1\" class=\"dataframe\">\n",
       "  <thead>\n",
       "    <tr style=\"text-align: right;\">\n",
       "      <th></th>\n",
       "      <th>W</th>\n",
       "      <th>X</th>\n",
       "      <th>Y</th>\n",
       "      <th>Z</th>\n",
       "    </tr>\n",
       "  </thead>\n",
       "  <tbody>\n",
       "    <tr>\n",
       "      <th>A</th>\n",
       "      <td>2.706850</td>\n",
       "      <td>0.628133</td>\n",
       "      <td>0.907969</td>\n",
       "      <td>0.503826</td>\n",
       "    </tr>\n",
       "    <tr>\n",
       "      <th>B</th>\n",
       "      <td>0.651118</td>\n",
       "      <td>NaN</td>\n",
       "      <td>NaN</td>\n",
       "      <td>0.605965</td>\n",
       "    </tr>\n",
       "    <tr>\n",
       "      <th>C</th>\n",
       "      <td>NaN</td>\n",
       "      <td>0.740122</td>\n",
       "      <td>0.528813</td>\n",
       "      <td>NaN</td>\n",
       "    </tr>\n",
       "    <tr>\n",
       "      <th>D</th>\n",
       "      <td>0.188695</td>\n",
       "      <td>NaN</td>\n",
       "      <td>NaN</td>\n",
       "      <td>0.955057</td>\n",
       "    </tr>\n",
       "    <tr>\n",
       "      <th>E</th>\n",
       "      <td>0.190794</td>\n",
       "      <td>1.978757</td>\n",
       "      <td>2.605967</td>\n",
       "      <td>0.683509</td>\n",
       "    </tr>\n",
       "  </tbody>\n",
       "</table>\n",
       "</div>"
      ],
      "text/plain": [
       "          W         X         Y         Z\n",
       "A  2.706850  0.628133  0.907969  0.503826\n",
       "B  0.651118       NaN       NaN  0.605965\n",
       "C       NaN  0.740122  0.528813       NaN\n",
       "D  0.188695       NaN       NaN  0.955057\n",
       "E  0.190794  1.978757  2.605967  0.683509"
      ]
     },
     "execution_count": 114,
     "metadata": {},
     "output_type": "execute_result"
    }
   ],
   "source": [
    "df[booldf]"
   ]
  },
  {
   "cell_type": "code",
   "execution_count": 116,
   "id": "3de4f696-dc72-4bd6-95ae-436c03f7d628",
   "metadata": {},
   "outputs": [
    {
     "data": {
      "text/html": [
       "<div>\n",
       "<style scoped>\n",
       "    .dataframe tbody tr th:only-of-type {\n",
       "        vertical-align: middle;\n",
       "    }\n",
       "\n",
       "    .dataframe tbody tr th {\n",
       "        vertical-align: top;\n",
       "    }\n",
       "\n",
       "    .dataframe thead th {\n",
       "        text-align: right;\n",
       "    }\n",
       "</style>\n",
       "<table border=\"1\" class=\"dataframe\">\n",
       "  <thead>\n",
       "    <tr style=\"text-align: right;\">\n",
       "      <th></th>\n",
       "      <th>W</th>\n",
       "      <th>X</th>\n",
       "      <th>Y</th>\n",
       "      <th>Z</th>\n",
       "    </tr>\n",
       "  </thead>\n",
       "  <tbody>\n",
       "    <tr>\n",
       "      <th>A</th>\n",
       "      <td>True</td>\n",
       "      <td>True</td>\n",
       "      <td>True</td>\n",
       "      <td>True</td>\n",
       "    </tr>\n",
       "    <tr>\n",
       "      <th>B</th>\n",
       "      <td>True</td>\n",
       "      <td>NaN</td>\n",
       "      <td>NaN</td>\n",
       "      <td>True</td>\n",
       "    </tr>\n",
       "    <tr>\n",
       "      <th>C</th>\n",
       "      <td>NaN</td>\n",
       "      <td>True</td>\n",
       "      <td>True</td>\n",
       "      <td>NaN</td>\n",
       "    </tr>\n",
       "    <tr>\n",
       "      <th>D</th>\n",
       "      <td>True</td>\n",
       "      <td>NaN</td>\n",
       "      <td>NaN</td>\n",
       "      <td>True</td>\n",
       "    </tr>\n",
       "    <tr>\n",
       "      <th>E</th>\n",
       "      <td>True</td>\n",
       "      <td>True</td>\n",
       "      <td>True</td>\n",
       "      <td>True</td>\n",
       "    </tr>\n",
       "  </tbody>\n",
       "</table>\n",
       "</div>"
      ],
      "text/plain": [
       "      W     X     Y     Z\n",
       "A  True  True  True  True\n",
       "B  True   NaN   NaN  True\n",
       "C   NaN  True  True   NaN\n",
       "D  True   NaN   NaN  True\n",
       "E  True  True  True  True"
      ]
     },
     "execution_count": 116,
     "metadata": {},
     "output_type": "execute_result"
    }
   ],
   "source": [
    "booldf[df>0]"
   ]
  },
  {
   "cell_type": "code",
   "execution_count": 118,
   "id": "bec31e41-78d0-474d-8a1c-3ead70ba15af",
   "metadata": {},
   "outputs": [
    {
     "data": {
      "text/html": [
       "<div>\n",
       "<style scoped>\n",
       "    .dataframe tbody tr th:only-of-type {\n",
       "        vertical-align: middle;\n",
       "    }\n",
       "\n",
       "    .dataframe tbody tr th {\n",
       "        vertical-align: top;\n",
       "    }\n",
       "\n",
       "    .dataframe thead th {\n",
       "        text-align: right;\n",
       "    }\n",
       "</style>\n",
       "<table border=\"1\" class=\"dataframe\">\n",
       "  <thead>\n",
       "    <tr style=\"text-align: right;\">\n",
       "      <th></th>\n",
       "      <th>W</th>\n",
       "      <th>X</th>\n",
       "      <th>Y</th>\n",
       "      <th>Z</th>\n",
       "    </tr>\n",
       "  </thead>\n",
       "  <tbody>\n",
       "    <tr>\n",
       "      <th>A</th>\n",
       "      <td>2.706850</td>\n",
       "      <td>0.628133</td>\n",
       "      <td>0.907969</td>\n",
       "      <td>0.503826</td>\n",
       "    </tr>\n",
       "    <tr>\n",
       "      <th>B</th>\n",
       "      <td>0.651118</td>\n",
       "      <td>NaN</td>\n",
       "      <td>NaN</td>\n",
       "      <td>0.605965</td>\n",
       "    </tr>\n",
       "    <tr>\n",
       "      <th>C</th>\n",
       "      <td>NaN</td>\n",
       "      <td>0.740122</td>\n",
       "      <td>0.528813</td>\n",
       "      <td>NaN</td>\n",
       "    </tr>\n",
       "    <tr>\n",
       "      <th>D</th>\n",
       "      <td>0.188695</td>\n",
       "      <td>NaN</td>\n",
       "      <td>NaN</td>\n",
       "      <td>0.955057</td>\n",
       "    </tr>\n",
       "    <tr>\n",
       "      <th>E</th>\n",
       "      <td>0.190794</td>\n",
       "      <td>1.978757</td>\n",
       "      <td>2.605967</td>\n",
       "      <td>0.683509</td>\n",
       "    </tr>\n",
       "  </tbody>\n",
       "</table>\n",
       "</div>"
      ],
      "text/plain": [
       "          W         X         Y         Z\n",
       "A  2.706850  0.628133  0.907969  0.503826\n",
       "B  0.651118       NaN       NaN  0.605965\n",
       "C       NaN  0.740122  0.528813       NaN\n",
       "D  0.188695       NaN       NaN  0.955057\n",
       "E  0.190794  1.978757  2.605967  0.683509"
      ]
     },
     "execution_count": 118,
     "metadata": {},
     "output_type": "execute_result"
    }
   ],
   "source": [
    "df[df > 0]"
   ]
  },
  {
   "cell_type": "code",
   "execution_count": 120,
   "id": "f1d080ab-886c-4e96-ae06-194a88a86a4c",
   "metadata": {},
   "outputs": [
    {
     "data": {
      "text/plain": [
       "A     True\n",
       "B     True\n",
       "C    False\n",
       "D     True\n",
       "E     True\n",
       "Name: W, dtype: bool"
      ]
     },
     "execution_count": 120,
     "metadata": {},
     "output_type": "execute_result"
    }
   ],
   "source": [
    "df['W'] > 0"
   ]
  },
  {
   "cell_type": "code",
   "execution_count": 122,
   "id": "0151d007-df28-4cb6-a420-3f1eb7e4258e",
   "metadata": {},
   "outputs": [
    {
     "data": {
      "text/html": [
       "<div>\n",
       "<style scoped>\n",
       "    .dataframe tbody tr th:only-of-type {\n",
       "        vertical-align: middle;\n",
       "    }\n",
       "\n",
       "    .dataframe tbody tr th {\n",
       "        vertical-align: top;\n",
       "    }\n",
       "\n",
       "    .dataframe thead th {\n",
       "        text-align: right;\n",
       "    }\n",
       "</style>\n",
       "<table border=\"1\" class=\"dataframe\">\n",
       "  <thead>\n",
       "    <tr style=\"text-align: right;\">\n",
       "      <th></th>\n",
       "      <th>W</th>\n",
       "      <th>X</th>\n",
       "      <th>Y</th>\n",
       "      <th>Z</th>\n",
       "    </tr>\n",
       "  </thead>\n",
       "  <tbody>\n",
       "    <tr>\n",
       "      <th>A</th>\n",
       "      <td>2.706850</td>\n",
       "      <td>0.628133</td>\n",
       "      <td>0.907969</td>\n",
       "      <td>0.503826</td>\n",
       "    </tr>\n",
       "    <tr>\n",
       "      <th>B</th>\n",
       "      <td>0.651118</td>\n",
       "      <td>-0.319318</td>\n",
       "      <td>-0.848077</td>\n",
       "      <td>0.605965</td>\n",
       "    </tr>\n",
       "    <tr>\n",
       "      <th>D</th>\n",
       "      <td>0.188695</td>\n",
       "      <td>-0.758872</td>\n",
       "      <td>-0.933237</td>\n",
       "      <td>0.955057</td>\n",
       "    </tr>\n",
       "    <tr>\n",
       "      <th>E</th>\n",
       "      <td>0.190794</td>\n",
       "      <td>1.978757</td>\n",
       "      <td>2.605967</td>\n",
       "      <td>0.683509</td>\n",
       "    </tr>\n",
       "  </tbody>\n",
       "</table>\n",
       "</div>"
      ],
      "text/plain": [
       "          W         X         Y         Z\n",
       "A  2.706850  0.628133  0.907969  0.503826\n",
       "B  0.651118 -0.319318 -0.848077  0.605965\n",
       "D  0.188695 -0.758872 -0.933237  0.955057\n",
       "E  0.190794  1.978757  2.605967  0.683509"
      ]
     },
     "execution_count": 122,
     "metadata": {},
     "output_type": "execute_result"
    }
   ],
   "source": [
    "df[df['W'] > 0]"
   ]
  },
  {
   "cell_type": "code",
   "execution_count": 124,
   "id": "3bb931e1-6af9-4da0-a98b-62917437b96e",
   "metadata": {},
   "outputs": [],
   "source": [
    "resultdf = df[df['W'] > 0]"
   ]
  },
  {
   "cell_type": "code",
   "execution_count": 126,
   "id": "348d19bb-3b85-414e-b0d6-dc84755918b3",
   "metadata": {},
   "outputs": [
    {
     "data": {
      "text/html": [
       "<div>\n",
       "<style scoped>\n",
       "    .dataframe tbody tr th:only-of-type {\n",
       "        vertical-align: middle;\n",
       "    }\n",
       "\n",
       "    .dataframe tbody tr th {\n",
       "        vertical-align: top;\n",
       "    }\n",
       "\n",
       "    .dataframe thead th {\n",
       "        text-align: right;\n",
       "    }\n",
       "</style>\n",
       "<table border=\"1\" class=\"dataframe\">\n",
       "  <thead>\n",
       "    <tr style=\"text-align: right;\">\n",
       "      <th></th>\n",
       "      <th>W</th>\n",
       "      <th>X</th>\n",
       "      <th>Y</th>\n",
       "      <th>Z</th>\n",
       "    </tr>\n",
       "  </thead>\n",
       "  <tbody>\n",
       "    <tr>\n",
       "      <th>A</th>\n",
       "      <td>2.706850</td>\n",
       "      <td>0.628133</td>\n",
       "      <td>0.907969</td>\n",
       "      <td>0.503826</td>\n",
       "    </tr>\n",
       "    <tr>\n",
       "      <th>B</th>\n",
       "      <td>0.651118</td>\n",
       "      <td>-0.319318</td>\n",
       "      <td>-0.848077</td>\n",
       "      <td>0.605965</td>\n",
       "    </tr>\n",
       "    <tr>\n",
       "      <th>D</th>\n",
       "      <td>0.188695</td>\n",
       "      <td>-0.758872</td>\n",
       "      <td>-0.933237</td>\n",
       "      <td>0.955057</td>\n",
       "    </tr>\n",
       "    <tr>\n",
       "      <th>E</th>\n",
       "      <td>0.190794</td>\n",
       "      <td>1.978757</td>\n",
       "      <td>2.605967</td>\n",
       "      <td>0.683509</td>\n",
       "    </tr>\n",
       "  </tbody>\n",
       "</table>\n",
       "</div>"
      ],
      "text/plain": [
       "          W         X         Y         Z\n",
       "A  2.706850  0.628133  0.907969  0.503826\n",
       "B  0.651118 -0.319318 -0.848077  0.605965\n",
       "D  0.188695 -0.758872 -0.933237  0.955057\n",
       "E  0.190794  1.978757  2.605967  0.683509"
      ]
     },
     "execution_count": 126,
     "metadata": {},
     "output_type": "execute_result"
    }
   ],
   "source": [
    "resultdf"
   ]
  },
  {
   "cell_type": "code",
   "execution_count": 128,
   "id": "036c3898-c23a-4bb5-b9f0-a47810dc3f00",
   "metadata": {},
   "outputs": [
    {
     "data": {
      "text/plain": [
       "A    0.628133\n",
       "B   -0.319318\n",
       "D   -0.758872\n",
       "E    1.978757\n",
       "Name: X, dtype: float64"
      ]
     },
     "execution_count": 128,
     "metadata": {},
     "output_type": "execute_result"
    }
   ],
   "source": [
    "resultdf['X']"
   ]
  },
  {
   "cell_type": "code",
   "execution_count": 130,
   "id": "87134c21-1bba-4ad7-94e9-1b84a895b1a9",
   "metadata": {},
   "outputs": [
    {
     "data": {
      "text/plain": [
       "A    0.628133\n",
       "B   -0.319318\n",
       "D   -0.758872\n",
       "E    1.978757\n",
       "Name: X, dtype: float64"
      ]
     },
     "execution_count": 130,
     "metadata": {},
     "output_type": "execute_result"
    }
   ],
   "source": [
    "df[df['W'] > 0]['X']"
   ]
  },
  {
   "cell_type": "code",
   "execution_count": 132,
   "id": "f9c55fe2-ecbb-4c29-825b-19b597e7fbcc",
   "metadata": {},
   "outputs": [
    {
     "data": {
      "text/html": [
       "<div>\n",
       "<style scoped>\n",
       "    .dataframe tbody tr th:only-of-type {\n",
       "        vertical-align: middle;\n",
       "    }\n",
       "\n",
       "    .dataframe tbody tr th {\n",
       "        vertical-align: top;\n",
       "    }\n",
       "\n",
       "    .dataframe thead th {\n",
       "        text-align: right;\n",
       "    }\n",
       "</style>\n",
       "<table border=\"1\" class=\"dataframe\">\n",
       "  <thead>\n",
       "    <tr style=\"text-align: right;\">\n",
       "      <th></th>\n",
       "      <th>X</th>\n",
       "      <th>Y</th>\n",
       "    </tr>\n",
       "  </thead>\n",
       "  <tbody>\n",
       "    <tr>\n",
       "      <th>A</th>\n",
       "      <td>0.628133</td>\n",
       "      <td>0.907969</td>\n",
       "    </tr>\n",
       "    <tr>\n",
       "      <th>B</th>\n",
       "      <td>-0.319318</td>\n",
       "      <td>-0.848077</td>\n",
       "    </tr>\n",
       "    <tr>\n",
       "      <th>D</th>\n",
       "      <td>-0.758872</td>\n",
       "      <td>-0.933237</td>\n",
       "    </tr>\n",
       "    <tr>\n",
       "      <th>E</th>\n",
       "      <td>1.978757</td>\n",
       "      <td>2.605967</td>\n",
       "    </tr>\n",
       "  </tbody>\n",
       "</table>\n",
       "</div>"
      ],
      "text/plain": [
       "          X         Y\n",
       "A  0.628133  0.907969\n",
       "B -0.319318 -0.848077\n",
       "D -0.758872 -0.933237\n",
       "E  1.978757  2.605967"
      ]
     },
     "execution_count": 132,
     "metadata": {},
     "output_type": "execute_result"
    }
   ],
   "source": [
    "df[df['W'] > 0][['X','Y']]"
   ]
  },
  {
   "cell_type": "code",
   "execution_count": 134,
   "id": "5a76029f-22d9-4750-b129-2c789c1b23d9",
   "metadata": {},
   "outputs": [
    {
     "data": {
      "text/html": [
       "<div>\n",
       "<style scoped>\n",
       "    .dataframe tbody tr th:only-of-type {\n",
       "        vertical-align: middle;\n",
       "    }\n",
       "\n",
       "    .dataframe tbody tr th {\n",
       "        vertical-align: top;\n",
       "    }\n",
       "\n",
       "    .dataframe thead th {\n",
       "        text-align: right;\n",
       "    }\n",
       "</style>\n",
       "<table border=\"1\" class=\"dataframe\">\n",
       "  <thead>\n",
       "    <tr style=\"text-align: right;\">\n",
       "      <th></th>\n",
       "      <th>W</th>\n",
       "      <th>X</th>\n",
       "      <th>Y</th>\n",
       "      <th>Z</th>\n",
       "    </tr>\n",
       "  </thead>\n",
       "  <tbody>\n",
       "    <tr>\n",
       "      <th>A</th>\n",
       "      <td>2.706850</td>\n",
       "      <td>0.628133</td>\n",
       "      <td>0.907969</td>\n",
       "      <td>0.503826</td>\n",
       "    </tr>\n",
       "    <tr>\n",
       "      <th>B</th>\n",
       "      <td>0.651118</td>\n",
       "      <td>-0.319318</td>\n",
       "      <td>-0.848077</td>\n",
       "      <td>0.605965</td>\n",
       "    </tr>\n",
       "    <tr>\n",
       "      <th>D</th>\n",
       "      <td>0.188695</td>\n",
       "      <td>-0.758872</td>\n",
       "      <td>-0.933237</td>\n",
       "      <td>0.955057</td>\n",
       "    </tr>\n",
       "    <tr>\n",
       "      <th>E</th>\n",
       "      <td>0.190794</td>\n",
       "      <td>1.978757</td>\n",
       "      <td>2.605967</td>\n",
       "      <td>0.683509</td>\n",
       "    </tr>\n",
       "  </tbody>\n",
       "</table>\n",
       "</div>"
      ],
      "text/plain": [
       "          W         X         Y         Z\n",
       "A  2.706850  0.628133  0.907969  0.503826\n",
       "B  0.651118 -0.319318 -0.848077  0.605965\n",
       "D  0.188695 -0.758872 -0.933237  0.955057\n",
       "E  0.190794  1.978757  2.605967  0.683509"
      ]
     },
     "execution_count": 134,
     "metadata": {},
     "output_type": "execute_result"
    }
   ],
   "source": [
    "df[df['W'] > 0]"
   ]
  },
  {
   "cell_type": "code",
   "execution_count": 136,
   "id": "b58a9539-8de5-4c80-98d0-43edcf5ab1fd",
   "metadata": {},
   "outputs": [
    {
     "data": {
      "text/html": [
       "<div>\n",
       "<style scoped>\n",
       "    .dataframe tbody tr th:only-of-type {\n",
       "        vertical-align: middle;\n",
       "    }\n",
       "\n",
       "    .dataframe tbody tr th {\n",
       "        vertical-align: top;\n",
       "    }\n",
       "\n",
       "    .dataframe thead th {\n",
       "        text-align: right;\n",
       "    }\n",
       "</style>\n",
       "<table border=\"1\" class=\"dataframe\">\n",
       "  <thead>\n",
       "    <tr style=\"text-align: right;\">\n",
       "      <th></th>\n",
       "      <th>W</th>\n",
       "      <th>X</th>\n",
       "      <th>Y</th>\n",
       "      <th>Z</th>\n",
       "    </tr>\n",
       "  </thead>\n",
       "  <tbody>\n",
       "    <tr>\n",
       "      <th>A</th>\n",
       "      <td>2.706850</td>\n",
       "      <td>0.628133</td>\n",
       "      <td>0.907969</td>\n",
       "      <td>0.503826</td>\n",
       "    </tr>\n",
       "    <tr>\n",
       "      <th>B</th>\n",
       "      <td>0.651118</td>\n",
       "      <td>-0.319318</td>\n",
       "      <td>-0.848077</td>\n",
       "      <td>0.605965</td>\n",
       "    </tr>\n",
       "    <tr>\n",
       "      <th>D</th>\n",
       "      <td>0.188695</td>\n",
       "      <td>-0.758872</td>\n",
       "      <td>-0.933237</td>\n",
       "      <td>0.955057</td>\n",
       "    </tr>\n",
       "  </tbody>\n",
       "</table>\n",
       "</div>"
      ],
      "text/plain": [
       "          W         X         Y         Z\n",
       "A  2.706850  0.628133  0.907969  0.503826\n",
       "B  0.651118 -0.319318 -0.848077  0.605965\n",
       "D  0.188695 -0.758872 -0.933237  0.955057"
      ]
     },
     "execution_count": 136,
     "metadata": {},
     "output_type": "execute_result"
    }
   ],
   "source": [
    "df[(df['W'] > 0) & (df['Y'] <=1)]"
   ]
  },
  {
   "cell_type": "code",
   "execution_count": 138,
   "id": "225c6d69-1c7c-421b-a2a0-45a1987421f9",
   "metadata": {},
   "outputs": [
    {
     "data": {
      "text/html": [
       "<div>\n",
       "<style scoped>\n",
       "    .dataframe tbody tr th:only-of-type {\n",
       "        vertical-align: middle;\n",
       "    }\n",
       "\n",
       "    .dataframe tbody tr th {\n",
       "        vertical-align: top;\n",
       "    }\n",
       "\n",
       "    .dataframe thead th {\n",
       "        text-align: right;\n",
       "    }\n",
       "</style>\n",
       "<table border=\"1\" class=\"dataframe\">\n",
       "  <thead>\n",
       "    <tr style=\"text-align: right;\">\n",
       "      <th></th>\n",
       "      <th>W</th>\n",
       "      <th>X</th>\n",
       "      <th>Y</th>\n",
       "      <th>Z</th>\n",
       "    </tr>\n",
       "  </thead>\n",
       "  <tbody>\n",
       "    <tr>\n",
       "      <th>E</th>\n",
       "      <td>0.190794</td>\n",
       "      <td>1.978757</td>\n",
       "      <td>2.605967</td>\n",
       "      <td>0.683509</td>\n",
       "    </tr>\n",
       "  </tbody>\n",
       "</table>\n",
       "</div>"
      ],
      "text/plain": [
       "          W         X         Y         Z\n",
       "E  0.190794  1.978757  2.605967  0.683509"
      ]
     },
     "execution_count": 138,
     "metadata": {},
     "output_type": "execute_result"
    }
   ],
   "source": [
    "df[(df['W'] > 0) & (df['Y'] >1)] # python 'and' is not applicable, '|' for or"
   ]
  },
  {
   "cell_type": "code",
   "execution_count": 140,
   "id": "7115d701-de04-4c82-91d3-e8df88b90f34",
   "metadata": {},
   "outputs": [
    {
     "data": {
      "text/html": [
       "<div>\n",
       "<style scoped>\n",
       "    .dataframe tbody tr th:only-of-type {\n",
       "        vertical-align: middle;\n",
       "    }\n",
       "\n",
       "    .dataframe tbody tr th {\n",
       "        vertical-align: top;\n",
       "    }\n",
       "\n",
       "    .dataframe thead th {\n",
       "        text-align: right;\n",
       "    }\n",
       "</style>\n",
       "<table border=\"1\" class=\"dataframe\">\n",
       "  <thead>\n",
       "    <tr style=\"text-align: right;\">\n",
       "      <th></th>\n",
       "      <th>W</th>\n",
       "      <th>X</th>\n",
       "      <th>Y</th>\n",
       "      <th>Z</th>\n",
       "    </tr>\n",
       "  </thead>\n",
       "  <tbody>\n",
       "    <tr>\n",
       "      <th>A</th>\n",
       "      <td>2.706850</td>\n",
       "      <td>0.628133</td>\n",
       "      <td>0.907969</td>\n",
       "      <td>0.503826</td>\n",
       "    </tr>\n",
       "    <tr>\n",
       "      <th>B</th>\n",
       "      <td>0.651118</td>\n",
       "      <td>-0.319318</td>\n",
       "      <td>-0.848077</td>\n",
       "      <td>0.605965</td>\n",
       "    </tr>\n",
       "    <tr>\n",
       "      <th>C</th>\n",
       "      <td>-2.018168</td>\n",
       "      <td>0.740122</td>\n",
       "      <td>0.528813</td>\n",
       "      <td>-0.589001</td>\n",
       "    </tr>\n",
       "    <tr>\n",
       "      <th>D</th>\n",
       "      <td>0.188695</td>\n",
       "      <td>-0.758872</td>\n",
       "      <td>-0.933237</td>\n",
       "      <td>0.955057</td>\n",
       "    </tr>\n",
       "    <tr>\n",
       "      <th>E</th>\n",
       "      <td>0.190794</td>\n",
       "      <td>1.978757</td>\n",
       "      <td>2.605967</td>\n",
       "      <td>0.683509</td>\n",
       "    </tr>\n",
       "  </tbody>\n",
       "</table>\n",
       "</div>"
      ],
      "text/plain": [
       "          W         X         Y         Z\n",
       "A  2.706850  0.628133  0.907969  0.503826\n",
       "B  0.651118 -0.319318 -0.848077  0.605965\n",
       "C -2.018168  0.740122  0.528813 -0.589001\n",
       "D  0.188695 -0.758872 -0.933237  0.955057\n",
       "E  0.190794  1.978757  2.605967  0.683509"
      ]
     },
     "execution_count": 140,
     "metadata": {},
     "output_type": "execute_result"
    }
   ],
   "source": [
    "df"
   ]
  },
  {
   "cell_type": "code",
   "execution_count": 142,
   "id": "eb9ef1d3-4ec1-434b-951a-25fe9d4de650",
   "metadata": {},
   "outputs": [],
   "source": [
    "newid = 'IND USA RUS BAN PAK'.split()"
   ]
  },
  {
   "cell_type": "code",
   "execution_count": 144,
   "id": "ae63ed1e-1812-4b03-8d5f-1dbd9617f761",
   "metadata": {},
   "outputs": [
    {
     "data": {
      "text/plain": [
       "['IND', 'USA', 'RUS', 'BAN', 'PAK']"
      ]
     },
     "execution_count": 144,
     "metadata": {},
     "output_type": "execute_result"
    }
   ],
   "source": [
    "newid"
   ]
  },
  {
   "cell_type": "code",
   "execution_count": 146,
   "id": "03d58d27-ca04-4820-a0fe-39402e382a8a",
   "metadata": {},
   "outputs": [],
   "source": [
    "df['States'] = newid"
   ]
  },
  {
   "cell_type": "code",
   "execution_count": 148,
   "id": "54463150-018b-4925-a38f-725181839d7d",
   "metadata": {},
   "outputs": [
    {
     "data": {
      "text/html": [
       "<div>\n",
       "<style scoped>\n",
       "    .dataframe tbody tr th:only-of-type {\n",
       "        vertical-align: middle;\n",
       "    }\n",
       "\n",
       "    .dataframe tbody tr th {\n",
       "        vertical-align: top;\n",
       "    }\n",
       "\n",
       "    .dataframe thead th {\n",
       "        text-align: right;\n",
       "    }\n",
       "</style>\n",
       "<table border=\"1\" class=\"dataframe\">\n",
       "  <thead>\n",
       "    <tr style=\"text-align: right;\">\n",
       "      <th></th>\n",
       "      <th>W</th>\n",
       "      <th>X</th>\n",
       "      <th>Y</th>\n",
       "      <th>Z</th>\n",
       "      <th>States</th>\n",
       "    </tr>\n",
       "  </thead>\n",
       "  <tbody>\n",
       "    <tr>\n",
       "      <th>A</th>\n",
       "      <td>2.706850</td>\n",
       "      <td>0.628133</td>\n",
       "      <td>0.907969</td>\n",
       "      <td>0.503826</td>\n",
       "      <td>IND</td>\n",
       "    </tr>\n",
       "    <tr>\n",
       "      <th>B</th>\n",
       "      <td>0.651118</td>\n",
       "      <td>-0.319318</td>\n",
       "      <td>-0.848077</td>\n",
       "      <td>0.605965</td>\n",
       "      <td>USA</td>\n",
       "    </tr>\n",
       "    <tr>\n",
       "      <th>C</th>\n",
       "      <td>-2.018168</td>\n",
       "      <td>0.740122</td>\n",
       "      <td>0.528813</td>\n",
       "      <td>-0.589001</td>\n",
       "      <td>RUS</td>\n",
       "    </tr>\n",
       "    <tr>\n",
       "      <th>D</th>\n",
       "      <td>0.188695</td>\n",
       "      <td>-0.758872</td>\n",
       "      <td>-0.933237</td>\n",
       "      <td>0.955057</td>\n",
       "      <td>BAN</td>\n",
       "    </tr>\n",
       "    <tr>\n",
       "      <th>E</th>\n",
       "      <td>0.190794</td>\n",
       "      <td>1.978757</td>\n",
       "      <td>2.605967</td>\n",
       "      <td>0.683509</td>\n",
       "      <td>PAK</td>\n",
       "    </tr>\n",
       "  </tbody>\n",
       "</table>\n",
       "</div>"
      ],
      "text/plain": [
       "          W         X         Y         Z States\n",
       "A  2.706850  0.628133  0.907969  0.503826    IND\n",
       "B  0.651118 -0.319318 -0.848077  0.605965    USA\n",
       "C -2.018168  0.740122  0.528813 -0.589001    RUS\n",
       "D  0.188695 -0.758872 -0.933237  0.955057    BAN\n",
       "E  0.190794  1.978757  2.605967  0.683509    PAK"
      ]
     },
     "execution_count": 148,
     "metadata": {},
     "output_type": "execute_result"
    }
   ],
   "source": [
    "df"
   ]
  },
  {
   "cell_type": "code",
   "execution_count": 150,
   "id": "c70f46cf-917c-4eff-b3a5-aebadab3b463",
   "metadata": {},
   "outputs": [
    {
     "data": {
      "text/html": [
       "<div>\n",
       "<style scoped>\n",
       "    .dataframe tbody tr th:only-of-type {\n",
       "        vertical-align: middle;\n",
       "    }\n",
       "\n",
       "    .dataframe tbody tr th {\n",
       "        vertical-align: top;\n",
       "    }\n",
       "\n",
       "    .dataframe thead th {\n",
       "        text-align: right;\n",
       "    }\n",
       "</style>\n",
       "<table border=\"1\" class=\"dataframe\">\n",
       "  <thead>\n",
       "    <tr style=\"text-align: right;\">\n",
       "      <th></th>\n",
       "      <th>W</th>\n",
       "      <th>X</th>\n",
       "      <th>Y</th>\n",
       "      <th>Z</th>\n",
       "    </tr>\n",
       "    <tr>\n",
       "      <th>States</th>\n",
       "      <th></th>\n",
       "      <th></th>\n",
       "      <th></th>\n",
       "      <th></th>\n",
       "    </tr>\n",
       "  </thead>\n",
       "  <tbody>\n",
       "    <tr>\n",
       "      <th>IND</th>\n",
       "      <td>2.706850</td>\n",
       "      <td>0.628133</td>\n",
       "      <td>0.907969</td>\n",
       "      <td>0.503826</td>\n",
       "    </tr>\n",
       "    <tr>\n",
       "      <th>USA</th>\n",
       "      <td>0.651118</td>\n",
       "      <td>-0.319318</td>\n",
       "      <td>-0.848077</td>\n",
       "      <td>0.605965</td>\n",
       "    </tr>\n",
       "    <tr>\n",
       "      <th>RUS</th>\n",
       "      <td>-2.018168</td>\n",
       "      <td>0.740122</td>\n",
       "      <td>0.528813</td>\n",
       "      <td>-0.589001</td>\n",
       "    </tr>\n",
       "    <tr>\n",
       "      <th>BAN</th>\n",
       "      <td>0.188695</td>\n",
       "      <td>-0.758872</td>\n",
       "      <td>-0.933237</td>\n",
       "      <td>0.955057</td>\n",
       "    </tr>\n",
       "    <tr>\n",
       "      <th>PAK</th>\n",
       "      <td>0.190794</td>\n",
       "      <td>1.978757</td>\n",
       "      <td>2.605967</td>\n",
       "      <td>0.683509</td>\n",
       "    </tr>\n",
       "  </tbody>\n",
       "</table>\n",
       "</div>"
      ],
      "text/plain": [
       "               W         X         Y         Z\n",
       "States                                        \n",
       "IND     2.706850  0.628133  0.907969  0.503826\n",
       "USA     0.651118 -0.319318 -0.848077  0.605965\n",
       "RUS    -2.018168  0.740122  0.528813 -0.589001\n",
       "BAN     0.188695 -0.758872 -0.933237  0.955057\n",
       "PAK     0.190794  1.978757  2.605967  0.683509"
      ]
     },
     "execution_count": 150,
     "metadata": {},
     "output_type": "execute_result"
    }
   ],
   "source": [
    "df.set_index('States')"
   ]
  },
  {
   "cell_type": "code",
   "execution_count": 152,
   "id": "2db10715-4018-47c9-8fdf-de4c0a9a8cfa",
   "metadata": {},
   "outputs": [
    {
     "data": {
      "text/html": [
       "<div>\n",
       "<style scoped>\n",
       "    .dataframe tbody tr th:only-of-type {\n",
       "        vertical-align: middle;\n",
       "    }\n",
       "\n",
       "    .dataframe tbody tr th {\n",
       "        vertical-align: top;\n",
       "    }\n",
       "\n",
       "    .dataframe thead th {\n",
       "        text-align: right;\n",
       "    }\n",
       "</style>\n",
       "<table border=\"1\" class=\"dataframe\">\n",
       "  <thead>\n",
       "    <tr style=\"text-align: right;\">\n",
       "      <th></th>\n",
       "      <th>W</th>\n",
       "      <th>X</th>\n",
       "      <th>Y</th>\n",
       "      <th>Z</th>\n",
       "      <th>States</th>\n",
       "    </tr>\n",
       "  </thead>\n",
       "  <tbody>\n",
       "    <tr>\n",
       "      <th>A</th>\n",
       "      <td>2.706850</td>\n",
       "      <td>0.628133</td>\n",
       "      <td>0.907969</td>\n",
       "      <td>0.503826</td>\n",
       "      <td>IND</td>\n",
       "    </tr>\n",
       "    <tr>\n",
       "      <th>B</th>\n",
       "      <td>0.651118</td>\n",
       "      <td>-0.319318</td>\n",
       "      <td>-0.848077</td>\n",
       "      <td>0.605965</td>\n",
       "      <td>USA</td>\n",
       "    </tr>\n",
       "    <tr>\n",
       "      <th>C</th>\n",
       "      <td>-2.018168</td>\n",
       "      <td>0.740122</td>\n",
       "      <td>0.528813</td>\n",
       "      <td>-0.589001</td>\n",
       "      <td>RUS</td>\n",
       "    </tr>\n",
       "    <tr>\n",
       "      <th>D</th>\n",
       "      <td>0.188695</td>\n",
       "      <td>-0.758872</td>\n",
       "      <td>-0.933237</td>\n",
       "      <td>0.955057</td>\n",
       "      <td>BAN</td>\n",
       "    </tr>\n",
       "    <tr>\n",
       "      <th>E</th>\n",
       "      <td>0.190794</td>\n",
       "      <td>1.978757</td>\n",
       "      <td>2.605967</td>\n",
       "      <td>0.683509</td>\n",
       "      <td>PAK</td>\n",
       "    </tr>\n",
       "  </tbody>\n",
       "</table>\n",
       "</div>"
      ],
      "text/plain": [
       "          W         X         Y         Z States\n",
       "A  2.706850  0.628133  0.907969  0.503826    IND\n",
       "B  0.651118 -0.319318 -0.848077  0.605965    USA\n",
       "C -2.018168  0.740122  0.528813 -0.589001    RUS\n",
       "D  0.188695 -0.758872 -0.933237  0.955057    BAN\n",
       "E  0.190794  1.978757  2.605967  0.683509    PAK"
      ]
     },
     "execution_count": 152,
     "metadata": {},
     "output_type": "execute_result"
    }
   ],
   "source": [
    "df"
   ]
  },
  {
   "cell_type": "code",
   "execution_count": 154,
   "id": "f6454621-1c87-443d-a6a7-0cc2bc8ff5a8",
   "metadata": {},
   "outputs": [],
   "source": [
    "# Didn't change as inplace = false by default"
   ]
  },
  {
   "cell_type": "code",
   "execution_count": null,
   "id": "c2f69a36-db85-41a8-a4cd-900d8c368f1a",
   "metadata": {},
   "outputs": [],
   "source": []
  },
  {
   "cell_type": "code",
   "execution_count": null,
   "id": "7b06bb39-bf11-4c63-9ec9-62b8a97d194b",
   "metadata": {},
   "outputs": [],
   "source": []
  },
  {
   "cell_type": "code",
   "execution_count": 158,
   "id": "f7e1f6bf-0376-428d-8f78-8b7c09075a6d",
   "metadata": {},
   "outputs": [],
   "source": [
    "outside = ['G1','G1', 'G1', 'G2', 'G2', 'G2']\n",
    "inside = [1,2,3,1,2,3]\n",
    "hier_index = list(zip(outside, inside))\n",
    "hier_index = pd.MultiIndex.from_tuples(hier_index)"
   ]
  },
  {
   "cell_type": "code",
   "execution_count": 160,
   "id": "ba82d86e-ce4d-49fb-aab7-320324dba0c8",
   "metadata": {},
   "outputs": [
    {
     "data": {
      "text/plain": [
       "['G1', 'G1', 'G1', 'G2', 'G2', 'G2']"
      ]
     },
     "execution_count": 160,
     "metadata": {},
     "output_type": "execute_result"
    }
   ],
   "source": [
    "outside"
   ]
  },
  {
   "cell_type": "code",
   "execution_count": 162,
   "id": "152a87d8-425a-4276-bf2f-e839dae2da63",
   "metadata": {},
   "outputs": [
    {
     "data": {
      "text/plain": [
       "[1, 2, 3, 1, 2, 3]"
      ]
     },
     "execution_count": 162,
     "metadata": {},
     "output_type": "execute_result"
    }
   ],
   "source": [
    "inside"
   ]
  },
  {
   "cell_type": "code",
   "execution_count": 170,
   "id": "262b87ff-cdf8-4562-849f-946a1c70a784",
   "metadata": {},
   "outputs": [
    {
     "data": {
      "text/plain": [
       "[('G1', 1), ('G1', 2), ('G1', 3), ('G2', 1), ('G2', 2), ('G2', 3)]"
      ]
     },
     "execution_count": 170,
     "metadata": {},
     "output_type": "execute_result"
    }
   ],
   "source": [
    "hier_index = list(zip(outside, inside))\n",
    "hier_index"
   ]
  },
  {
   "cell_type": "code",
   "execution_count": 172,
   "id": "491bf682-75d4-4ce5-85b1-aaeba7344880",
   "metadata": {},
   "outputs": [
    {
     "data": {
      "text/plain": [
       "MultiIndex([('G1', 1),\n",
       "            ('G1', 2),\n",
       "            ('G1', 3),\n",
       "            ('G2', 1),\n",
       "            ('G2', 2),\n",
       "            ('G2', 3)],\n",
       "           )"
      ]
     },
     "execution_count": 172,
     "metadata": {},
     "output_type": "execute_result"
    }
   ],
   "source": [
    "hier_index = pd.MultiIndex.from_tuples(hier_index)\n",
    "hier_index"
   ]
  },
  {
   "cell_type": "code",
   "execution_count": 180,
   "id": "8636b68d-9c50-4edb-952b-8ffbe5c2afbe",
   "metadata": {},
   "outputs": [],
   "source": [
    "df = pd.DataFrame(randn(6,2),hier_index,['A','B'])"
   ]
  },
  {
   "cell_type": "code",
   "execution_count": 176,
   "id": "958dbb88-3a2b-4b20-8a51-b0e891016dab",
   "metadata": {},
   "outputs": [
    {
     "data": {
      "text/html": [
       "<div>\n",
       "<style scoped>\n",
       "    .dataframe tbody tr th:only-of-type {\n",
       "        vertical-align: middle;\n",
       "    }\n",
       "\n",
       "    .dataframe tbody tr th {\n",
       "        vertical-align: top;\n",
       "    }\n",
       "\n",
       "    .dataframe thead th {\n",
       "        text-align: right;\n",
       "    }\n",
       "</style>\n",
       "<table border=\"1\" class=\"dataframe\">\n",
       "  <thead>\n",
       "    <tr style=\"text-align: right;\">\n",
       "      <th></th>\n",
       "      <th></th>\n",
       "      <th>A</th>\n",
       "      <th>B</th>\n",
       "    </tr>\n",
       "  </thead>\n",
       "  <tbody>\n",
       "    <tr>\n",
       "      <th rowspan=\"3\" valign=\"top\">G1</th>\n",
       "      <th>1</th>\n",
       "      <td>0.302665</td>\n",
       "      <td>1.693723</td>\n",
       "    </tr>\n",
       "    <tr>\n",
       "      <th>2</th>\n",
       "      <td>-1.706086</td>\n",
       "      <td>-1.159119</td>\n",
       "    </tr>\n",
       "    <tr>\n",
       "      <th>3</th>\n",
       "      <td>-0.134841</td>\n",
       "      <td>0.390528</td>\n",
       "    </tr>\n",
       "    <tr>\n",
       "      <th rowspan=\"3\" valign=\"top\">G2</th>\n",
       "      <th>1</th>\n",
       "      <td>0.166905</td>\n",
       "      <td>0.184502</td>\n",
       "    </tr>\n",
       "    <tr>\n",
       "      <th>2</th>\n",
       "      <td>0.807706</td>\n",
       "      <td>0.072960</td>\n",
       "    </tr>\n",
       "    <tr>\n",
       "      <th>3</th>\n",
       "      <td>0.638787</td>\n",
       "      <td>0.329646</td>\n",
       "    </tr>\n",
       "  </tbody>\n",
       "</table>\n",
       "</div>"
      ],
      "text/plain": [
       "             A         B\n",
       "G1 1  0.302665  1.693723\n",
       "   2 -1.706086 -1.159119\n",
       "   3 -0.134841  0.390528\n",
       "G2 1  0.166905  0.184502\n",
       "   2  0.807706  0.072960\n",
       "   3  0.638787  0.329646"
      ]
     },
     "execution_count": 176,
     "metadata": {},
     "output_type": "execute_result"
    }
   ],
   "source": [
    "df"
   ]
  },
  {
   "cell_type": "code",
   "execution_count": 186,
   "id": "be0d5a32-5c74-4add-992a-7573d9918644",
   "metadata": {},
   "outputs": [],
   "source": [
    "df.index.names = ['Groups', 'Num']"
   ]
  },
  {
   "cell_type": "code",
   "execution_count": 188,
   "id": "0ed76212-418d-4227-914c-76ace8a592f9",
   "metadata": {},
   "outputs": [
    {
     "data": {
      "text/html": [
       "<div>\n",
       "<style scoped>\n",
       "    .dataframe tbody tr th:only-of-type {\n",
       "        vertical-align: middle;\n",
       "    }\n",
       "\n",
       "    .dataframe tbody tr th {\n",
       "        vertical-align: top;\n",
       "    }\n",
       "\n",
       "    .dataframe thead th {\n",
       "        text-align: right;\n",
       "    }\n",
       "</style>\n",
       "<table border=\"1\" class=\"dataframe\">\n",
       "  <thead>\n",
       "    <tr style=\"text-align: right;\">\n",
       "      <th></th>\n",
       "      <th></th>\n",
       "      <th>A</th>\n",
       "      <th>B</th>\n",
       "    </tr>\n",
       "    <tr>\n",
       "      <th>Groups</th>\n",
       "      <th>Num</th>\n",
       "      <th></th>\n",
       "      <th></th>\n",
       "    </tr>\n",
       "  </thead>\n",
       "  <tbody>\n",
       "    <tr>\n",
       "      <th rowspan=\"3\" valign=\"top\">G1</th>\n",
       "      <th>1</th>\n",
       "      <td>-1.136645</td>\n",
       "      <td>0.000366</td>\n",
       "    </tr>\n",
       "    <tr>\n",
       "      <th>2</th>\n",
       "      <td>1.025984</td>\n",
       "      <td>-0.156598</td>\n",
       "    </tr>\n",
       "    <tr>\n",
       "      <th>3</th>\n",
       "      <td>-0.031579</td>\n",
       "      <td>0.649826</td>\n",
       "    </tr>\n",
       "    <tr>\n",
       "      <th rowspan=\"3\" valign=\"top\">G2</th>\n",
       "      <th>1</th>\n",
       "      <td>2.154846</td>\n",
       "      <td>-0.610259</td>\n",
       "    </tr>\n",
       "    <tr>\n",
       "      <th>2</th>\n",
       "      <td>-0.755325</td>\n",
       "      <td>-0.346419</td>\n",
       "    </tr>\n",
       "    <tr>\n",
       "      <th>3</th>\n",
       "      <td>0.147027</td>\n",
       "      <td>-0.479448</td>\n",
       "    </tr>\n",
       "  </tbody>\n",
       "</table>\n",
       "</div>"
      ],
      "text/plain": [
       "                   A         B\n",
       "Groups Num                    \n",
       "G1     1   -1.136645  0.000366\n",
       "       2    1.025984 -0.156598\n",
       "       3   -0.031579  0.649826\n",
       "G2     1    2.154846 -0.610259\n",
       "       2   -0.755325 -0.346419\n",
       "       3    0.147027 -0.479448"
      ]
     },
     "execution_count": 188,
     "metadata": {},
     "output_type": "execute_result"
    }
   ],
   "source": [
    "df"
   ]
  },
  {
   "cell_type": "code",
   "execution_count": 198,
   "id": "ef9b5e86-8842-477f-933c-c1859d8af928",
   "metadata": {},
   "outputs": [
    {
     "data": {
      "text/html": [
       "<div>\n",
       "<style scoped>\n",
       "    .dataframe tbody tr th:only-of-type {\n",
       "        vertical-align: middle;\n",
       "    }\n",
       "\n",
       "    .dataframe tbody tr th {\n",
       "        vertical-align: top;\n",
       "    }\n",
       "\n",
       "    .dataframe thead th {\n",
       "        text-align: right;\n",
       "    }\n",
       "</style>\n",
       "<table border=\"1\" class=\"dataframe\">\n",
       "  <thead>\n",
       "    <tr style=\"text-align: right;\">\n",
       "      <th></th>\n",
       "      <th>A</th>\n",
       "      <th>B</th>\n",
       "    </tr>\n",
       "    <tr>\n",
       "      <th>Num</th>\n",
       "      <th></th>\n",
       "      <th></th>\n",
       "    </tr>\n",
       "  </thead>\n",
       "  <tbody>\n",
       "    <tr>\n",
       "      <th>1</th>\n",
       "      <td>-1.136645</td>\n",
       "      <td>0.000366</td>\n",
       "    </tr>\n",
       "    <tr>\n",
       "      <th>2</th>\n",
       "      <td>1.025984</td>\n",
       "      <td>-0.156598</td>\n",
       "    </tr>\n",
       "    <tr>\n",
       "      <th>3</th>\n",
       "      <td>-0.031579</td>\n",
       "      <td>0.649826</td>\n",
       "    </tr>\n",
       "  </tbody>\n",
       "</table>\n",
       "</div>"
      ],
      "text/plain": [
       "            A         B\n",
       "Num                    \n",
       "1   -1.136645  0.000366\n",
       "2    1.025984 -0.156598\n",
       "3   -0.031579  0.649826"
      ]
     },
     "execution_count": 198,
     "metadata": {},
     "output_type": "execute_result"
    }
   ],
   "source": [
    "df.loc['G1']"
   ]
  },
  {
   "cell_type": "code",
   "execution_count": 200,
   "id": "15cecc43-94e3-4559-ae0b-8c5bc931bdad",
   "metadata": {},
   "outputs": [
    {
     "data": {
      "text/plain": [
       "A    1.025984\n",
       "B   -0.156598\n",
       "Name: 2, dtype: float64"
      ]
     },
     "execution_count": 200,
     "metadata": {},
     "output_type": "execute_result"
    }
   ],
   "source": [
    "df.loc['G1'].loc[2]"
   ]
  },
  {
   "cell_type": "code",
   "execution_count": null,
   "id": "349286a3-b3dc-474f-8d56-55fb575531a4",
   "metadata": {},
   "outputs": [],
   "source": []
  }
 ],
 "metadata": {
  "kernelspec": {
   "display_name": "Python [conda env:base] *",
   "language": "python",
   "name": "conda-base-py"
  },
  "language_info": {
   "codemirror_mode": {
    "name": "ipython",
    "version": 3
   },
   "file_extension": ".py",
   "mimetype": "text/x-python",
   "name": "python",
   "nbconvert_exporter": "python",
   "pygments_lexer": "ipython3",
   "version": "3.12.7"
  }
 },
 "nbformat": 4,
 "nbformat_minor": 5
}
