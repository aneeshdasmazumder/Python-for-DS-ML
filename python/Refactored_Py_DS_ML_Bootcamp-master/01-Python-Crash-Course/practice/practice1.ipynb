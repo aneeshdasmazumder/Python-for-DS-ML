{
 "cells": [
  {
   "cell_type": "code",
   "execution_count": 3,
   "id": "8ab4650d-eec5-4f1b-9388-2f7837437c64",
   "metadata": {},
   "outputs": [],
   "source": [
    "# ** What is 7 to the power of 4?**"
   ]
  },
  {
   "cell_type": "code",
   "execution_count": 5,
   "id": "2d5f8521-8e28-43e0-aa97-e2240e8f0800",
   "metadata": {},
   "outputs": [
    {
     "data": {
      "text/plain": [
       "2401"
      ]
     },
     "execution_count": 5,
     "metadata": {},
     "output_type": "execute_result"
    }
   ],
   "source": [
    "7**4"
   ]
  },
  {
   "cell_type": "code",
   "execution_count": 7,
   "id": "ff9ea981-4fd8-41c1-828e-a6fd5b8bfe73",
   "metadata": {},
   "outputs": [
    {
     "data": {
      "text/plain": [
       "['Hi', 'there', 'Sam!']"
      ]
     },
     "execution_count": 7,
     "metadata": {},
     "output_type": "execute_result"
    }
   ],
   "source": [
    "s = \"Hi there Sam!\"\n",
    "s.split()"
   ]
  },
  {
   "cell_type": "code",
   "execution_count": 9,
   "id": "20d7bf74-38c4-46e0-bd52-3e6c7e06172c",
   "metadata": {},
   "outputs": [
    {
     "name": "stdout",
     "output_type": "stream",
     "text": [
      "The diameter of Earth is 12742.\n"
     ]
    }
   ],
   "source": [
    "planet = \"Earth\"\n",
    "diameter = 12742\n",
    "print(\"The diameter of {} is {}.\".format(planet,diameter))"
   ]
  },
  {
   "cell_type": "code",
   "execution_count": 11,
   "id": "0d6a9425-477a-43ff-a546-9d0f79309e92",
   "metadata": {},
   "outputs": [],
   "source": [
    "lst = [1,2,[3,4],[5,[100,200,['hello']],23,11],1,7]"
   ]
  },
  {
   "cell_type": "code",
   "execution_count": 21,
   "id": "76d951ed-4bd9-4c81-adcc-92ed5db4940c",
   "metadata": {},
   "outputs": [
    {
     "data": {
      "text/plain": [
       "'hello'"
      ]
     },
     "execution_count": 21,
     "metadata": {},
     "output_type": "execute_result"
    }
   ],
   "source": [
    "lst[3][1][2][0]"
   ]
  },
  {
   "cell_type": "code",
   "execution_count": 23,
   "id": "dc92b7e7-407d-40cb-aa24-cb8a49ff0c89",
   "metadata": {},
   "outputs": [],
   "source": [
    "d = {'k1':[1,2,3,{'tricky':['oh','man','inception',{'target':[1,2,3,'hello']}]}]}"
   ]
  },
  {
   "cell_type": "code",
   "execution_count": 35,
   "id": "45853543-81a6-404b-b1cf-047396fd8ea2",
   "metadata": {},
   "outputs": [
    {
     "data": {
      "text/plain": [
       "'hello'"
      ]
     },
     "execution_count": 35,
     "metadata": {},
     "output_type": "execute_result"
    }
   ],
   "source": [
    "d['k1'][3]['tricky'][3]['target'][3]"
   ]
  },
  {
   "cell_type": "code",
   "execution_count": 49,
   "id": "4638ceb8-5e3a-44c4-870e-186e75ccb3a9",
   "metadata": {},
   "outputs": [],
   "source": [
    "def domainGet(email):\n",
    "    strArr = str.split('@')\n",
    "    return strArr[1]"
   ]
  },
  {
   "cell_type": "code",
   "execution_count": 51,
   "id": "4fc9ac24-bec6-4573-9c6f-40f4a546c238",
   "metadata": {},
   "outputs": [],
   "source": [
    "str = 'user@domain.com'"
   ]
  },
  {
   "cell_type": "code",
   "execution_count": 53,
   "id": "381a5b5a-9811-404a-b4ff-b1e5ab8de787",
   "metadata": {},
   "outputs": [
    {
     "data": {
      "text/plain": [
       "'domain.com'"
      ]
     },
     "execution_count": 53,
     "metadata": {},
     "output_type": "execute_result"
    }
   ],
   "source": [
    "domainGet(str)"
   ]
  },
  {
   "cell_type": "code",
   "execution_count": 55,
   "id": "f5e6ce39-3848-40de-ba65-621609eb129e",
   "metadata": {},
   "outputs": [],
   "source": [
    "# ** Create a basic function that returns True if the word 'dog' is contained in the input string. \n",
    "# Don't worry about edge cases like a punctuation being attached to the word dog, but do account for capitalization. **"
   ]
  },
  {
   "cell_type": "code",
   "execution_count": 57,
   "id": "5774318d-4d37-4c49-a219-0d46935e960a",
   "metadata": {},
   "outputs": [],
   "source": [
    "def wordFind(str):\n",
    "    return 'dog' in str.lower().split()"
   ]
  },
  {
   "cell_type": "code",
   "execution_count": 61,
   "id": "955e2d43-cf5c-4566-986f-94ffb190ff42",
   "metadata": {},
   "outputs": [
    {
     "data": {
      "text/plain": [
       "True"
      ]
     },
     "execution_count": 61,
     "metadata": {},
     "output_type": "execute_result"
    }
   ],
   "source": [
    "wordFind('Lets find a dog')"
   ]
  },
  {
   "cell_type": "code",
   "execution_count": 63,
   "id": "967615e8-5cd8-4c4f-86a7-70d1cbfebdf3",
   "metadata": {},
   "outputs": [
    {
     "data": {
      "text/plain": [
       "False"
      ]
     },
     "execution_count": 63,
     "metadata": {},
     "output_type": "execute_result"
    }
   ],
   "source": [
    "wordFind('Lets find a cat')"
   ]
  },
  {
   "cell_type": "code",
   "execution_count": 65,
   "id": "1d81de1a-7ab3-453c-bbaa-3adf619f9ccb",
   "metadata": {},
   "outputs": [],
   "source": [
    "# ** Create a function that counts the number of times the word \"dog\" occurs in a string. Again ignore edge cases. **"
   ]
  },
  {
   "cell_type": "code",
   "execution_count": 67,
   "id": "2ac8797e-c1df-4866-99c6-c20ae0465d49",
   "metadata": {},
   "outputs": [],
   "source": [
    "def countdog(st):\n",
    "    count = 0;\n",
    "    for word in st.lower().split():\n",
    "        if word == 'dog':\n",
    "            count += 1\n",
    "    return count"
   ]
  },
  {
   "cell_type": "code",
   "execution_count": 71,
   "id": "e03bceef-a3b4-4c90-9cf2-68ffcc9db5b3",
   "metadata": {},
   "outputs": [
    {
     "data": {
      "text/plain": [
       "2"
      ]
     },
     "execution_count": 71,
     "metadata": {},
     "output_type": "execute_result"
    }
   ],
   "source": [
    "countdog('This dog runs faster than the other dog dude!')"
   ]
  },
  {
   "cell_type": "code",
   "execution_count": 1,
   "id": "ee4a9458-f556-47a5-a57f-df46578254cf",
   "metadata": {},
   "outputs": [
    {
     "data": {
      "text/plain": [
       "['soup', 'salad']"
      ]
     },
     "execution_count": 1,
     "metadata": {},
     "output_type": "execute_result"
    }
   ],
   "source": [
    "seq = ['soup','dog','salad','cat','great']\n",
    "list(filter(lambda word:word[0]=='s', seq))"
   ]
  },
  {
   "cell_type": "code",
   "execution_count": 3,
   "id": "8bbd9917-7b32-4eb7-a8fb-fe89048aa2eb",
   "metadata": {},
   "outputs": [],
   "source": [
    "# **You are driving a little too fast, and a police officer stops you. Write a function to return one of 3 possible results: \n",
    "# \"No ticket\", \"Small ticket\", or \"Big Ticket\". If your speed is 60 or less, the result is \"No Ticket\". \n",
    "# If speed is between 61 and 80 inclusive, the result is \"Small Ticket\". If speed is 81 or more, the result is \"Big Ticket\". \n",
    "# Unless it is your birthday (encoded as a boolean value in the parameters of the function) -- on your birthday, \n",
    "# your speed can be 5 higher in all cases. **"
   ]
  },
  {
   "cell_type": "code",
   "execution_count": 7,
   "id": "a9d27d2f-d268-4c9f-b002-d1ac3bdb82ea",
   "metadata": {},
   "outputs": [],
   "source": [
    "def challan(speed, is_birthday):\n",
    "    if is_birthday:\n",
    "        speeding = speed - 5\n",
    "    else:\n",
    "        speeding = speed\n",
    "\n",
    "    if speeding > 60 and speed <= 80:\n",
    "        return 'Small ticket'\n",
    "    elif speeding > 80:\n",
    "        return 'Big Ticket'\n",
    "    else: return 'No Ticket'"
   ]
  },
  {
   "cell_type": "code",
   "execution_count": 23,
   "id": "24a6fcab-5338-4029-b72b-90fb301d6c68",
   "metadata": {},
   "outputs": [
    {
     "name": "stdout",
     "output_type": "stream",
     "text": [
      "No Ticket\n"
     ]
    }
   ],
   "source": [
    "print(challan(81, True))"
   ]
  },
  {
   "cell_type": "code",
   "execution_count": null,
   "id": "d503a0ea-54a3-481d-934e-ed23df97a353",
   "metadata": {},
   "outputs": [],
   "source": []
  }
 ],
 "metadata": {
  "kernelspec": {
   "display_name": "Python [conda env:base] *",
   "language": "python",
   "name": "conda-base-py"
  },
  "language_info": {
   "codemirror_mode": {
    "name": "ipython",
    "version": 3
   },
   "file_extension": ".py",
   "mimetype": "text/x-python",
   "name": "python",
   "nbconvert_exporter": "python",
   "pygments_lexer": "ipython3",
   "version": "3.12.7"
  }
 },
 "nbformat": 4,
 "nbformat_minor": 5
}
