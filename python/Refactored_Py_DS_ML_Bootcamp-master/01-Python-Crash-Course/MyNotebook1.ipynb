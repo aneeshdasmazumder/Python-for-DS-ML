{
 "cells": [
  {
   "cell_type": "markdown",
   "id": "e6d4c98c-5ae7-47bc-b562-062f831c1a63",
   "metadata": {},
   "source": [
    "# print a text"
   ]
  },
  {
   "cell_type": "code",
   "execution_count": 28,
   "id": "67f3df79-828e-49fb-8c1d-e0c28fb279dd",
   "metadata": {},
   "outputs": [
    {
     "name": "stdout",
     "output_type": "stream",
     "text": [
      "hello\n"
     ]
    }
   ],
   "source": [
    "print('hello')"
   ]
  },
  {
   "cell_type": "markdown",
   "id": "c6413f95-9634-4afc-b45c-3ccf7b0f95e1",
   "metadata": {},
   "source": [
    "# Alt + Enter: Creates a new cell"
   ]
  },
  {
   "cell_type": "code",
   "execution_count": 17,
   "id": "a8631adc-6afa-4e23-9ffc-7ca4e21ad5de",
   "metadata": {},
   "outputs": [
    {
     "data": {
      "text/plain": [
       "'Alt + Enter: Creates a new cell'"
      ]
     },
     "execution_count": 17,
     "metadata": {},
     "output_type": "execute_result"
    }
   ],
   "source": [
    "'Alt + Enter: Creates a new cell'"
   ]
  },
  {
   "cell_type": "code",
   "execution_count": 15,
   "id": "bcd5ac65-d8d1-4e0e-88c0-05ddda77067d",
   "metadata": {},
   "outputs": [
    {
     "data": {
      "text/plain": [
       "3"
      ]
     },
     "execution_count": 15,
     "metadata": {},
     "output_type": "execute_result"
    }
   ],
   "source": [
    "1+2"
   ]
  },
  {
   "cell_type": "markdown",
   "id": "9b4e9bef-377a-4b20-b6c8-f7e285bec6f6",
   "metadata": {},
   "source": [
    "# Shortcut to run a cell"
   ]
  },
  {
   "cell_type": "code",
   "execution_count": 33,
   "id": "900729fe-391a-4f3e-b5bd-ac18ab0f1905",
   "metadata": {},
   "outputs": [
    {
     "data": {
      "text/plain": [
       "'Shift + Enter: Run'"
      ]
     },
     "execution_count": 33,
     "metadata": {},
     "output_type": "execute_result"
    }
   ],
   "source": [
    "'Shift + Enter: Run'"
   ]
  },
  {
   "cell_type": "markdown",
   "id": "f86abbb0-eb95-4981-b433-3116d720cc61",
   "metadata": {},
   "source": [
    "# Numbers"
   ]
  },
  {
   "cell_type": "code",
   "execution_count": 36,
   "id": "d0ee5a51-eabf-4ebd-be4b-5c95d50a35bd",
   "metadata": {},
   "outputs": [
    {
     "data": {
      "text/plain": [
       "3"
      ]
     },
     "execution_count": 36,
     "metadata": {},
     "output_type": "execute_result"
    }
   ],
   "source": [
    "1 + 2"
   ]
  },
  {
   "cell_type": "code",
   "execution_count": 38,
   "id": "7678673d-f824-4061-9aa3-68fe46bc017e",
   "metadata": {},
   "outputs": [
    {
     "data": {
      "text/plain": [
       "6"
      ]
     },
     "execution_count": 38,
     "metadata": {},
     "output_type": "execute_result"
    }
   ],
   "source": [
    "2 * 3"
   ]
  },
  {
   "cell_type": "code",
   "execution_count": 40,
   "id": "8f4de794-2772-45e3-a17b-0a2e272676a9",
   "metadata": {},
   "outputs": [
    {
     "data": {
      "text/plain": [
       "0.5"
      ]
     },
     "execution_count": 40,
     "metadata": {},
     "output_type": "execute_result"
    }
   ],
   "source": [
    "1 / 2"
   ]
  },
  {
   "cell_type": "code",
   "execution_count": 48,
   "id": "2f8ac719-b7a5-4ce9-8bde-bf163dcd7e4f",
   "metadata": {},
   "outputs": [
    {
     "data": {
      "text/plain": [
       "0"
      ]
     },
     "execution_count": 48,
     "metadata": {},
     "output_type": "execute_result"
    }
   ],
   "source": [
    "4 % 2"
   ]
  },
  {
   "cell_type": "code",
   "execution_count": 46,
   "id": "6d90b12a-b8db-4249-9f37-1269bbac58ba",
   "metadata": {},
   "outputs": [
    {
     "data": {
      "text/plain": [
       "1"
      ]
     },
     "execution_count": 46,
     "metadata": {},
     "output_type": "execute_result"
    }
   ],
   "source": [
    "7 % 3"
   ]
  },
  {
   "cell_type": "code",
   "execution_count": 50,
   "id": "17887676-b09e-4638-a310-ed3d348a5a48",
   "metadata": {},
   "outputs": [],
   "source": [
    "var = 11"
   ]
  },
  {
   "cell_type": "code",
   "execution_count": 52,
   "id": "5a479855-3a6b-4263-bf65-c18eb97c21be",
   "metadata": {},
   "outputs": [
    {
     "data": {
      "text/plain": [
       "11"
      ]
     },
     "execution_count": 52,
     "metadata": {},
     "output_type": "execute_result"
    }
   ],
   "source": [
    "var"
   ]
  },
  {
   "cell_type": "code",
   "execution_count": 54,
   "id": "6bcce507-9cfe-4b54-9902-3b507ba648ec",
   "metadata": {},
   "outputs": [
    {
     "data": {
      "text/plain": [
       "10"
      ]
     },
     "execution_count": 54,
     "metadata": {},
     "output_type": "execute_result"
    }
   ],
   "source": [
    "x = 6\n",
    "y = 4\n",
    "x + y"
   ]
  },
  {
   "cell_type": "code",
   "execution_count": 56,
   "id": "3e1035ad-b4a0-47a9-86c9-cc7e0ddc2226",
   "metadata": {},
   "outputs": [],
   "source": [
    "x = x + x"
   ]
  },
  {
   "cell_type": "code",
   "execution_count": 58,
   "id": "74a409dd-1bb9-4d27-a5b0-8b5f62debf26",
   "metadata": {},
   "outputs": [
    {
     "data": {
      "text/plain": [
       "12"
      ]
     },
     "execution_count": 58,
     "metadata": {},
     "output_type": "execute_result"
    }
   ],
   "source": [
    "x"
   ]
  },
  {
   "cell_type": "markdown",
   "id": "0e2457c5-baf2-47c8-9bcd-760ff6454250",
   "metadata": {},
   "source": [
    "# Strings"
   ]
  },
  {
   "cell_type": "code",
   "execution_count": 61,
   "id": "1cfc383c-9055-43ba-8895-2ffb43435084",
   "metadata": {},
   "outputs": [
    {
     "data": {
      "text/plain": [
       "'single quote'"
      ]
     },
     "execution_count": 61,
     "metadata": {},
     "output_type": "execute_result"
    }
   ],
   "source": [
    "'single quote'"
   ]
  },
  {
   "cell_type": "code",
   "execution_count": 65,
   "id": "ab86d90d-f7fb-4b6c-96d0-bf987545536d",
   "metadata": {},
   "outputs": [
    {
     "data": {
      "text/plain": [
       "'this is a string'"
      ]
     },
     "execution_count": 65,
     "metadata": {},
     "output_type": "execute_result"
    }
   ],
   "source": [
    "\"this is a string\""
   ]
  },
  {
   "cell_type": "code",
   "execution_count": 67,
   "id": "647b9531-c21d-497d-84ce-c6076a3f6289",
   "metadata": {},
   "outputs": [
    {
     "data": {
      "text/plain": [
       "\"I can't run\""
      ]
     },
     "execution_count": 67,
     "metadata": {},
     "output_type": "execute_result"
    }
   ],
   "source": [
    "\"I can't run\""
   ]
  },
  {
   "cell_type": "code",
   "execution_count": 69,
   "id": "084a1f93-f050-48aa-8a46-32afa4a53581",
   "metadata": {},
   "outputs": [
    {
     "data": {
      "text/plain": [
       "'Aneesh'"
      ]
     },
     "execution_count": 69,
     "metadata": {},
     "output_type": "execute_result"
    }
   ],
   "source": [
    "str = 'Aneesh'\n",
    "str"
   ]
  },
  {
   "cell_type": "code",
   "execution_count": 71,
   "id": "6d64e3b5-a182-4c95-b324-6a1b113e3370",
   "metadata": {},
   "outputs": [
    {
     "name": "stdout",
     "output_type": "stream",
     "text": [
      "Aneesh\n"
     ]
    }
   ],
   "source": [
    "print(str)"
   ]
  },
  {
   "cell_type": "code",
   "execution_count": 75,
   "id": "091182e0-4be5-434a-8b38-88d05b0eb21d",
   "metadata": {},
   "outputs": [],
   "source": [
    "num = 27\n",
    "name = \"aneesh\""
   ]
  },
  {
   "cell_type": "code",
   "execution_count": 77,
   "id": "a4303f2b-85bf-469f-ad3e-cbe0046a2187",
   "metadata": {},
   "outputs": [
    {
     "name": "stdout",
     "output_type": "stream",
     "text": [
      "My name is aneesh and my age is 27\n"
     ]
    }
   ],
   "source": [
    "print(\"My name is {} and my age is {}\".format(name, num))"
   ]
  },
  {
   "cell_type": "code",
   "execution_count": 79,
   "id": "ad0a4d43-04b6-4407-b929-e16c598ed2b6",
   "metadata": {},
   "outputs": [
    {
     "name": "stdout",
     "output_type": "stream",
     "text": [
      "My name is aneesh and my age is 27\n"
     ]
    }
   ],
   "source": [
    "print(\"My name is {one} and my age is {two}\".format(one=name, two=num))"
   ]
  },
  {
   "cell_type": "code",
   "execution_count": 81,
   "id": "b370182a-cbe8-405a-a31c-f4e54693d0fe",
   "metadata": {},
   "outputs": [],
   "source": [
    "s = \"qwertyuiop\""
   ]
  },
  {
   "cell_type": "code",
   "execution_count": 83,
   "id": "d8478f72-9783-4753-8290-da07216976fe",
   "metadata": {},
   "outputs": [
    {
     "data": {
      "text/plain": [
       "'q'"
      ]
     },
     "execution_count": 83,
     "metadata": {},
     "output_type": "execute_result"
    }
   ],
   "source": [
    "s[0]"
   ]
  },
  {
   "cell_type": "code",
   "execution_count": 85,
   "id": "1f125ff6-41fc-460c-a9ad-c747aeb8d164",
   "metadata": {},
   "outputs": [
    {
     "data": {
      "text/plain": [
       "'qwertyuiop'"
      ]
     },
     "execution_count": 85,
     "metadata": {},
     "output_type": "execute_result"
    }
   ],
   "source": [
    "s[0:]"
   ]
  },
  {
   "cell_type": "code",
   "execution_count": 87,
   "id": "0a66b851-3df0-4665-965e-1465f502cdb3",
   "metadata": {},
   "outputs": [
    {
     "data": {
      "text/plain": [
       "'yuiop'"
      ]
     },
     "execution_count": 87,
     "metadata": {},
     "output_type": "execute_result"
    }
   ],
   "source": [
    "s[5:]"
   ]
  },
  {
   "cell_type": "code",
   "execution_count": 107,
   "id": "6b71bc5e-504b-4b5b-8974-b346490e757c",
   "metadata": {},
   "outputs": [
    {
     "data": {
      "text/plain": [
       "'erty'"
      ]
     },
     "execution_count": 107,
     "metadata": {},
     "output_type": "execute_result"
    }
   ],
   "source": [
    "s[2:6]"
   ]
  },
  {
   "cell_type": "markdown",
   "id": "942801a3-d1fc-4d95-8f9a-7ec1919e9a83",
   "metadata": {},
   "source": [
    "# Lists"
   ]
  },
  {
   "cell_type": "code",
   "execution_count": 91,
   "id": "d0762715-ae81-43ae-a072-d1fa5f8b7c3a",
   "metadata": {},
   "outputs": [],
   "source": [
    "my_list = ['a', 'b', 'c']"
   ]
  },
  {
   "cell_type": "code",
   "execution_count": 93,
   "id": "35cd80af-edd0-4a5c-a6db-1b3b41385150",
   "metadata": {},
   "outputs": [
    {
     "data": {
      "text/plain": [
       "['a', 'b', 'c']"
      ]
     },
     "execution_count": 93,
     "metadata": {},
     "output_type": "execute_result"
    }
   ],
   "source": [
    "my_list"
   ]
  },
  {
   "cell_type": "code",
   "execution_count": 95,
   "id": "26bb8b85-c910-43b8-b93a-3b6e71f69103",
   "metadata": {},
   "outputs": [],
   "source": [
    "my_list.append('d')"
   ]
  },
  {
   "cell_type": "code",
   "execution_count": 97,
   "id": "e80314c6-c275-4de0-9ddc-b22c5ff794ae",
   "metadata": {},
   "outputs": [
    {
     "data": {
      "text/plain": [
       "['a', 'b', 'c', 'd']"
      ]
     },
     "execution_count": 97,
     "metadata": {},
     "output_type": "execute_result"
    }
   ],
   "source": [
    "my_list"
   ]
  },
  {
   "cell_type": "code",
   "execution_count": 127,
   "id": "2f98d857-91b8-4d18-ba9e-218bf2010fbd",
   "metadata": {},
   "outputs": [],
   "source": [
    "nest = ['e', 'f', my_list]"
   ]
  },
  {
   "cell_type": "code",
   "execution_count": 129,
   "id": "4914d473-bcfe-4ede-85d1-ae005ec05100",
   "metadata": {},
   "outputs": [
    {
     "data": {
      "text/plain": [
       "'e'"
      ]
     },
     "execution_count": 129,
     "metadata": {},
     "output_type": "execute_result"
    }
   ],
   "source": [
    "nest[0]"
   ]
  },
  {
   "cell_type": "code",
   "execution_count": 131,
   "id": "cbfbe648-36cb-4dd7-ba21-716ca9da6549",
   "metadata": {},
   "outputs": [
    {
     "data": {
      "text/plain": [
       "[2, 4, 6, 8, 10]"
      ]
     },
     "execution_count": 131,
     "metadata": {},
     "output_type": "execute_result"
    }
   ],
   "source": [
    "nest[2]"
   ]
  },
  {
   "cell_type": "code",
   "execution_count": 133,
   "id": "13c3e613-22e7-454e-a57a-5a7e117ba719",
   "metadata": {},
   "outputs": [
    {
     "data": {
      "text/plain": [
       "8"
      ]
     },
     "execution_count": 133,
     "metadata": {},
     "output_type": "execute_result"
    }
   ],
   "source": [
    "nest[2][3]"
   ]
  },
  {
   "cell_type": "code",
   "execution_count": 137,
   "id": "22e11b45-8740-4bad-88db-e25ea4064975",
   "metadata": {},
   "outputs": [
    {
     "data": {
      "text/plain": [
       "['e', 'f', [2, 4, 6, 8, 10]]"
      ]
     },
     "execution_count": 137,
     "metadata": {},
     "output_type": "execute_result"
    }
   ],
   "source": [
    "nest"
   ]
  },
  {
   "cell_type": "code",
   "execution_count": 115,
   "id": "8f703d87-7e28-4484-adc1-ee7891762aa7",
   "metadata": {},
   "outputs": [],
   "source": [
    "lst = nest.pop()"
   ]
  },
  {
   "cell_type": "code",
   "execution_count": 121,
   "id": "39bc891a-999b-409e-ae64-64df7d79856f",
   "metadata": {},
   "outputs": [
    {
     "data": {
      "text/plain": [
       "'f'"
      ]
     },
     "execution_count": 121,
     "metadata": {},
     "output_type": "execute_result"
    }
   ],
   "source": [
    "lst"
   ]
  },
  {
   "cell_type": "code",
   "execution_count": 147,
   "id": "a63af74a-ea2a-4f5d-a844-8256cf2b9c65",
   "metadata": {},
   "outputs": [
    {
     "data": {
      "text/plain": [
       "['e', 'f']"
      ]
     },
     "execution_count": 147,
     "metadata": {},
     "output_type": "execute_result"
    }
   ],
   "source": [
    "nest"
   ]
  },
  {
   "cell_type": "code",
   "execution_count": 159,
   "id": "8282df6c-d520-4997-bcd0-9d6293f95608",
   "metadata": {},
   "outputs": [
    {
     "data": {
      "text/plain": [
       "True"
      ]
     },
     "execution_count": 159,
     "metadata": {},
     "output_type": "execute_result"
    }
   ],
   "source": [
    "'f' in nest"
   ]
  },
  {
   "cell_type": "code",
   "execution_count": 161,
   "id": "09653687-e7b0-4e9b-ae67-b57dde7ef2fe",
   "metadata": {},
   "outputs": [
    {
     "data": {
      "text/plain": [
       "False"
      ]
     },
     "execution_count": 161,
     "metadata": {},
     "output_type": "execute_result"
    }
   ],
   "source": [
    "'x' in nest"
   ]
  },
  {
   "cell_type": "markdown",
   "id": "ec654a43-ae54-4699-abdf-9f403b9b446c",
   "metadata": {},
   "source": [
    "# Dictionary"
   ]
  },
  {
   "cell_type": "code",
   "execution_count": 115,
   "id": "bd82175b-85ef-44c2-9508-ac0c108d514f",
   "metadata": {},
   "outputs": [],
   "source": [
    "d = {'key1': 'value', 'key2': 123, 'key3': [1, 2, 3]}"
   ]
  },
  {
   "cell_type": "code",
   "execution_count": 117,
   "id": "2a8f6274-47e1-4dab-a154-df07ade50641",
   "metadata": {},
   "outputs": [
    {
     "name": "stdout",
     "output_type": "stream",
     "text": [
      "value\n"
     ]
    }
   ],
   "source": [
    "print(d['key1'])"
   ]
  },
  {
   "cell_type": "code",
   "execution_count": 121,
   "id": "83ab3190-aa2a-46ed-8101-b5c0ee1f4b5d",
   "metadata": {},
   "outputs": [
    {
     "data": {
      "text/plain": [
       "2"
      ]
     },
     "execution_count": 121,
     "metadata": {},
     "output_type": "execute_result"
    }
   ],
   "source": [
    "d['key3'][1]"
   ]
  },
  {
   "cell_type": "code",
   "execution_count": 123,
   "id": "50334cd5-6458-4893-89c8-56c1ebb7eac5",
   "metadata": {},
   "outputs": [],
   "source": [
    "d = {'k1' : ['a', 'b']}"
   ]
  },
  {
   "cell_type": "code",
   "execution_count": 127,
   "id": "bdb1f9cb-6db4-497f-9d62-f92378a1eeab",
   "metadata": {},
   "outputs": [
    {
     "data": {
      "text/plain": [
       "'b'"
      ]
     },
     "execution_count": 127,
     "metadata": {},
     "output_type": "execute_result"
    }
   ],
   "source": [
    "d['k1'][1]"
   ]
  },
  {
   "cell_type": "code",
   "execution_count": 70,
   "id": "a01bed22-07e8-465e-922e-0d76956b56a4",
   "metadata": {},
   "outputs": [],
   "source": [
    "d = {'k1' : {'innerkey': [1, 2, 3]}}"
   ]
  },
  {
   "cell_type": "code",
   "execution_count": 78,
   "id": "fcd0da15-5975-4776-8837-af1ebff9fa71",
   "metadata": {},
   "outputs": [
    {
     "data": {
      "text/plain": [
       "3"
      ]
     },
     "execution_count": 78,
     "metadata": {},
     "output_type": "execute_result"
    }
   ],
   "source": [
    "d['k1']['innerkey'][2]"
   ]
  },
  {
   "cell_type": "code",
   "execution_count": 84,
   "id": "d7f281df-563c-4735-b84f-661db52f0d94",
   "metadata": {},
   "outputs": [
    {
     "data": {
      "text/plain": [
       "dict_keys(['k1'])"
      ]
     },
     "execution_count": 84,
     "metadata": {},
     "output_type": "execute_result"
    }
   ],
   "source": [
    "d.keys()"
   ]
  },
  {
   "cell_type": "code",
   "execution_count": 89,
   "id": "5d3a3f93-0960-4f6b-8933-881b67420924",
   "metadata": {},
   "outputs": [
    {
     "data": {
      "text/plain": [
       "dict_items([('k1', {'innerkey': [1, 2, 3]})])"
      ]
     },
     "execution_count": 89,
     "metadata": {},
     "output_type": "execute_result"
    }
   ],
   "source": [
    "d.items()"
   ]
  },
  {
   "cell_type": "code",
   "execution_count": 93,
   "id": "331d90e9-89b7-4599-b64c-a67a5c72a560",
   "metadata": {},
   "outputs": [
    {
     "data": {
      "text/plain": [
       "dict_values([{'innerkey': [1, 2, 3]}])"
      ]
     },
     "execution_count": 93,
     "metadata": {},
     "output_type": "execute_result"
    }
   ],
   "source": [
    "d.values()"
   ]
  },
  {
   "cell_type": "code",
   "execution_count": 97,
   "id": "28bd6407-eec1-40fe-b306-f940e5404519",
   "metadata": {},
   "outputs": [
    {
     "data": {
      "text/plain": [
       "dict_values([[1, 2, 3]])"
      ]
     },
     "execution_count": 97,
     "metadata": {},
     "output_type": "execute_result"
    }
   ],
   "source": [
    "d['k1'].values()"
   ]
  },
  {
   "cell_type": "code",
   "execution_count": null,
   "id": "1c40c363-975a-4850-981d-a1157d86da81",
   "metadata": {},
   "outputs": [],
   "source": []
  },
  {
   "cell_type": "markdown",
   "id": "affa4d4b-e1e1-463f-af8c-0fb6260f22c7",
   "metadata": {},
   "source": [
    "# Boolean"
   ]
  },
  {
   "cell_type": "code",
   "execution_count": 134,
   "id": "57a450c7-adca-4b66-92fc-64976249b815",
   "metadata": {},
   "outputs": [
    {
     "data": {
      "text/plain": [
       "True"
      ]
     },
     "execution_count": 134,
     "metadata": {},
     "output_type": "execute_result"
    }
   ],
   "source": [
    "True"
   ]
  },
  {
   "cell_type": "code",
   "execution_count": 136,
   "id": "d123516e-8046-4b6c-a379-21928b00e816",
   "metadata": {},
   "outputs": [
    {
     "data": {
      "text/plain": [
       "False"
      ]
     },
     "execution_count": 136,
     "metadata": {},
     "output_type": "execute_result"
    }
   ],
   "source": [
    "False"
   ]
  },
  {
   "cell_type": "markdown",
   "id": "0f97b814-0fde-4ac4-bc42-8e535c6f1849",
   "metadata": {},
   "source": [
    "# Tuples"
   ]
  },
  {
   "cell_type": "code",
   "execution_count": 139,
   "id": "dadb666b-95e7-485c-8bf1-65c118f75e89",
   "metadata": {},
   "outputs": [],
   "source": [
    "t = (1, 2, 3)"
   ]
  },
  {
   "cell_type": "code",
   "execution_count": 141,
   "id": "f76057f4-fcba-47a5-8036-363ffb2c3aeb",
   "metadata": {},
   "outputs": [
    {
     "data": {
      "text/plain": [
       "(1, 2, 3)"
      ]
     },
     "execution_count": 141,
     "metadata": {},
     "output_type": "execute_result"
    }
   ],
   "source": [
    "t"
   ]
  },
  {
   "cell_type": "code",
   "execution_count": 143,
   "id": "b7b96c63-2815-49fc-9acc-f8bb8e829a18",
   "metadata": {},
   "outputs": [
    {
     "data": {
      "text/plain": [
       "1"
      ]
     },
     "execution_count": 143,
     "metadata": {},
     "output_type": "execute_result"
    }
   ],
   "source": [
    "t[0]"
   ]
  },
  {
   "cell_type": "code",
   "execution_count": 145,
   "id": "75c3c500-1648-4d95-9436-e5c642b9ccff",
   "metadata": {},
   "outputs": [
    {
     "ename": "TypeError",
     "evalue": "'tuple' object does not support item assignment",
     "output_type": "error",
     "traceback": [
      "\u001b[1;31m---------------------------------------------------------------------------\u001b[0m",
      "\u001b[1;31mTypeError\u001b[0m                                 Traceback (most recent call last)",
      "Cell \u001b[1;32mIn[145], line 1\u001b[0m\n\u001b[1;32m----> 1\u001b[0m t[\u001b[38;5;241m0\u001b[39m] \u001b[38;5;241m=\u001b[39m \u001b[38;5;124m'\u001b[39m\u001b[38;5;124mNEW\u001b[39m\u001b[38;5;124m'\u001b[39m\n",
      "\u001b[1;31mTypeError\u001b[0m: 'tuple' object does not support item assignment"
     ]
    }
   ],
   "source": [
    "t[0] = 'NEW'"
   ]
  },
  {
   "cell_type": "code",
   "execution_count": 163,
   "id": "cec36e21-2f65-456b-a323-d35d3fac7c33",
   "metadata": {},
   "outputs": [],
   "source": [
    "# Immutable"
   ]
  },
  {
   "cell_type": "code",
   "execution_count": 167,
   "id": "1356b0c4-9f05-42c8-9731-ba8505fdcbb7",
   "metadata": {},
   "outputs": [],
   "source": [
    "x = [(1,2),(3,4),(5,6)]"
   ]
  },
  {
   "cell_type": "code",
   "execution_count": 169,
   "id": "6f415b73-ed02-4f1b-aef6-cd9fad8cf545",
   "metadata": {},
   "outputs": [
    {
     "name": "stdout",
     "output_type": "stream",
     "text": [
      "1\n",
      "2\n",
      "3\n",
      "4\n",
      "5\n",
      "6\n"
     ]
    }
   ],
   "source": [
    "for a,b in x:\n",
    "    print(a)\n",
    "    print(b)"
   ]
  },
  {
   "cell_type": "markdown",
   "id": "8ef69f88-66c3-40bd-af22-a845d10e3f98",
   "metadata": {},
   "source": [
    "# Set"
   ]
  },
  {
   "cell_type": "code",
   "execution_count": 150,
   "id": "f6660094-69cd-43cd-86b5-57da66643679",
   "metadata": {},
   "outputs": [
    {
     "data": {
      "text/plain": [
       "{1, 2, 3}"
      ]
     },
     "execution_count": 150,
     "metadata": {},
     "output_type": "execute_result"
    }
   ],
   "source": [
    "{1,1,1,1,1,2,2,2,2,3,3,3,3,3}"
   ]
  },
  {
   "cell_type": "code",
   "execution_count": 152,
   "id": "0b054343-0e9d-4ba9-8c11-4a637dc5744d",
   "metadata": {},
   "outputs": [
    {
     "data": {
      "text/plain": [
       "{1, 2, 3}"
      ]
     },
     "execution_count": 152,
     "metadata": {},
     "output_type": "execute_result"
    }
   ],
   "source": [
    "set([1,1,1,1,1,2,2,2,2,3,3,3,3,3])"
   ]
  },
  {
   "cell_type": "code",
   "execution_count": 154,
   "id": "5578b2df-7bda-48ff-a7de-cbeecf4753a0",
   "metadata": {},
   "outputs": [
    {
     "data": {
      "text/plain": [
       "{1, 2, 3}"
      ]
     },
     "execution_count": 154,
     "metadata": {},
     "output_type": "execute_result"
    }
   ],
   "source": [
    "s = {1,2,2,3}\n",
    "s"
   ]
  },
  {
   "cell_type": "code",
   "execution_count": 156,
   "id": "43b635de-f5cd-40eb-baa4-1f94eaf74558",
   "metadata": {},
   "outputs": [],
   "source": [
    "s.add(5)"
   ]
  },
  {
   "cell_type": "code",
   "execution_count": 158,
   "id": "56a07c09-f2e3-4ec1-bdb0-63de808daaa0",
   "metadata": {},
   "outputs": [
    {
     "data": {
      "text/plain": [
       "{1, 2, 3, 5}"
      ]
     },
     "execution_count": 158,
     "metadata": {},
     "output_type": "execute_result"
    }
   ],
   "source": [
    "s"
   ]
  },
  {
   "cell_type": "code",
   "execution_count": 160,
   "id": "a07f59ee-c0f5-4818-91a8-3c036b9044d8",
   "metadata": {},
   "outputs": [],
   "source": [
    "s.add(5)"
   ]
  },
  {
   "cell_type": "code",
   "execution_count": 162,
   "id": "a0ae8969-b20c-4476-9b21-a507271ea328",
   "metadata": {},
   "outputs": [
    {
     "data": {
      "text/plain": [
       "{1, 2, 3, 5}"
      ]
     },
     "execution_count": 162,
     "metadata": {},
     "output_type": "execute_result"
    }
   ],
   "source": [
    "s"
   ]
  },
  {
   "cell_type": "markdown",
   "id": "5405a754-434e-45d8-8416-386fae8af762",
   "metadata": {},
   "source": [
    "# Comparisons"
   ]
  },
  {
   "cell_type": "code",
   "execution_count": 165,
   "id": "d23c48b1-3812-4d40-99ec-105d76fe86d6",
   "metadata": {},
   "outputs": [
    {
     "data": {
      "text/plain": [
       "True"
      ]
     },
     "execution_count": 165,
     "metadata": {},
     "output_type": "execute_result"
    }
   ],
   "source": [
    "1 < 2"
   ]
  },
  {
   "cell_type": "code",
   "execution_count": 167,
   "id": "08a797c5-7c55-4a2b-a272-c822a10c56da",
   "metadata": {},
   "outputs": [
    {
     "data": {
      "text/plain": [
       "False"
      ]
     },
     "execution_count": 167,
     "metadata": {},
     "output_type": "execute_result"
    }
   ],
   "source": [
    "2 > 3"
   ]
  },
  {
   "cell_type": "code",
   "execution_count": 169,
   "id": "fc1549b6-f359-404d-81dd-81948e25c1e9",
   "metadata": {},
   "outputs": [
    {
     "data": {
      "text/plain": [
       "True"
      ]
     },
     "execution_count": 169,
     "metadata": {},
     "output_type": "execute_result"
    }
   ],
   "source": [
    "1 == 1"
   ]
  },
  {
   "cell_type": "code",
   "execution_count": 171,
   "id": "f6fad20e-788a-4bf2-98ce-52df0ddb0abd",
   "metadata": {},
   "outputs": [
    {
     "data": {
      "text/plain": [
       "True"
      ]
     },
     "execution_count": 171,
     "metadata": {},
     "output_type": "execute_result"
    }
   ],
   "source": [
    "(1 < 2) and (2 < 3)"
   ]
  },
  {
   "cell_type": "code",
   "execution_count": 173,
   "id": "bc1b3c67-d9f2-43e9-a44a-29b08fc707e7",
   "metadata": {},
   "outputs": [
    {
     "data": {
      "text/plain": [
       "False"
      ]
     },
     "execution_count": 173,
     "metadata": {},
     "output_type": "execute_result"
    }
   ],
   "source": [
    "(1 < 2) and (2 > 3)"
   ]
  },
  {
   "cell_type": "code",
   "execution_count": 175,
   "id": "70dfe379-4470-4eba-9f11-332f457e081d",
   "metadata": {},
   "outputs": [
    {
     "data": {
      "text/plain": [
       "True"
      ]
     },
     "execution_count": 175,
     "metadata": {},
     "output_type": "execute_result"
    }
   ],
   "source": [
    "(1 < 2) or (2 > 3)"
   ]
  },
  {
   "cell_type": "markdown",
   "id": "56a6aaaf-478c-4f48-86e5-d2ea11e24327",
   "metadata": {},
   "source": [
    "# Conditions"
   ]
  },
  {
   "cell_type": "code",
   "execution_count": 182,
   "id": "feb3f1e1-4ca3-41bc-a805-7336924e5351",
   "metadata": {},
   "outputs": [
    {
     "name": "stdout",
     "output_type": "stream",
     "text": [
      "Second\n"
     ]
    }
   ],
   "source": [
    "if 1 > 2:\n",
    "    print('First')\n",
    "elif 1 == 1:\n",
    "    print('Second')\n",
    "else:\n",
    "    print('Third')"
   ]
  },
  {
   "cell_type": "markdown",
   "id": "b1ebd861-103b-4090-a663-e9d7bd1906e4",
   "metadata": {},
   "source": [
    "# For Loops"
   ]
  },
  {
   "cell_type": "code",
   "execution_count": 185,
   "id": "80ac9e41-8c4a-40ce-a777-02f9fdee812d",
   "metadata": {},
   "outputs": [],
   "source": [
    "arr = [1,2,3,4,5]"
   ]
  },
  {
   "cell_type": "code",
   "execution_count": 187,
   "id": "f09ccc04-8985-43f4-9380-60f31ae29550",
   "metadata": {},
   "outputs": [
    {
     "name": "stdout",
     "output_type": "stream",
     "text": [
      "1\n",
      "2\n",
      "3\n",
      "4\n",
      "5\n"
     ]
    }
   ],
   "source": [
    "for item in arr:\n",
    "    print(item)"
   ]
  },
  {
   "cell_type": "code",
   "execution_count": 189,
   "id": "8d13aabb-7fa4-4cb6-8d99-4e9553c4a743",
   "metadata": {},
   "outputs": [
    {
     "name": "stdout",
     "output_type": "stream",
     "text": [
      "2\n",
      "4\n",
      "6\n",
      "8\n",
      "10\n"
     ]
    }
   ],
   "source": [
    "for item in arr:\n",
    "    print(item + item)"
   ]
  },
  {
   "cell_type": "markdown",
   "id": "7762633b-05e3-4fc8-9f87-483b2cc3c648",
   "metadata": {},
   "source": [
    "# while Loops"
   ]
  },
  {
   "cell_type": "code",
   "execution_count": 203,
   "id": "43346bf9-51e2-4a6e-a196-da098dbc476d",
   "metadata": {},
   "outputs": [
    {
     "name": "stdout",
     "output_type": "stream",
     "text": [
      "Value of i is: 1\n",
      "Value of i is: 2\n",
      "Value of i is: 3\n",
      "Value of i is: 4\n"
     ]
    }
   ],
   "source": [
    "i = 1\n",
    "while i < 5:\n",
    "    print('Value of i is: {}'.format(i))\n",
    "    i = i + 1"
   ]
  },
  {
   "cell_type": "markdown",
   "id": "fe025459-645c-4f28-abb3-b108c18ba37c",
   "metadata": {},
   "source": [
    "# range"
   ]
  },
  {
   "cell_type": "code",
   "execution_count": 206,
   "id": "e8524fb1-80c8-4b09-803f-3345c863d455",
   "metadata": {},
   "outputs": [
    {
     "data": {
      "text/plain": [
       "[0, 1, 2, 3, 4, 5, 6, 7, 8, 9]"
      ]
     },
     "execution_count": 206,
     "metadata": {},
     "output_type": "execute_result"
    }
   ],
   "source": [
    "list(range(10))"
   ]
  },
  {
   "cell_type": "code",
   "execution_count": 208,
   "id": "cfe4877b-0914-4b15-980f-835639070233",
   "metadata": {},
   "outputs": [
    {
     "name": "stdout",
     "output_type": "stream",
     "text": [
      "0\n",
      "1\n",
      "2\n",
      "3\n",
      "4\n"
     ]
    }
   ],
   "source": [
    "for i in range(0, 5):\n",
    "    print(i)"
   ]
  },
  {
   "cell_type": "markdown",
   "id": "484d9591-2593-4476-bbd4-d987cd6576b5",
   "metadata": {},
   "source": [
    "# list comprehension"
   ]
  },
  {
   "cell_type": "code",
   "execution_count": 215,
   "id": "ae7b2090-c002-48a5-b659-8b44ae7c73f5",
   "metadata": {},
   "outputs": [
    {
     "data": {
      "text/plain": [
       "[1, 4, 9, 16]"
      ]
     },
     "execution_count": 215,
     "metadata": {},
     "output_type": "execute_result"
    }
   ],
   "source": [
    "my_list = [1,2,3,4]\n",
    "out = []\n",
    "for i in my_list:\n",
    "    out.append(i ** 2)\n",
    "\n",
    "out"
   ]
  },
  {
   "cell_type": "code",
   "execution_count": 217,
   "id": "6c8ec531-8c2c-4e3f-8e1c-d8ad80409277",
   "metadata": {},
   "outputs": [
    {
     "data": {
      "text/plain": [
       "[1, 4, 9, 16]"
      ]
     },
     "execution_count": 217,
     "metadata": {},
     "output_type": "execute_result"
    }
   ],
   "source": [
    "out = [i ** 2 for i in my_list]\n",
    "out"
   ]
  },
  {
   "cell_type": "markdown",
   "id": "96c8b298-2f8b-4ab9-b3ca-5cc4a020bf06",
   "metadata": {},
   "source": [
    "# Functions"
   ]
  },
  {
   "cell_type": "code",
   "execution_count": 2,
   "id": "b6f82384-08bb-460c-9924-32a6ae22de01",
   "metadata": {},
   "outputs": [],
   "source": [
    "def my_func(name=\"Default Name\"):\n",
    "    print('Hello '+name);"
   ]
  },
  {
   "cell_type": "code",
   "execution_count": 4,
   "id": "16b5bf72-f923-4ca3-88ba-f89c3d059623",
   "metadata": {},
   "outputs": [
    {
     "name": "stdout",
     "output_type": "stream",
     "text": [
      "Hello Default Name\n"
     ]
    }
   ],
   "source": [
    "my_func();"
   ]
  },
  {
   "cell_type": "code",
   "execution_count": 6,
   "id": "18952198-5246-4495-9078-1fd2d27b6a3c",
   "metadata": {},
   "outputs": [
    {
     "name": "stdout",
     "output_type": "stream",
     "text": [
      "Hello Aneesh\n"
     ]
    }
   ],
   "source": [
    "my_func(\"Aneesh\");"
   ]
  },
  {
   "cell_type": "code",
   "execution_count": 8,
   "id": "3402a49d-852f-487b-bada-91b65fca57fd",
   "metadata": {},
   "outputs": [
    {
     "data": {
      "text/plain": [
       "<function __main__.my_func(name='Default Name')>"
      ]
     },
     "execution_count": 8,
     "metadata": {},
     "output_type": "execute_result"
    }
   ],
   "source": [
    "my_func"
   ]
  },
  {
   "cell_type": "code",
   "execution_count": 16,
   "id": "b5dc0853-45cf-4b79-aafa-b50dd1ffdb01",
   "metadata": {},
   "outputs": [],
   "source": [
    "def square_of(num):\n",
    "    \"\"\"\n",
    "    This is docstring. Multiple comment line\n",
    "    This function is used to square a number\n",
    "    \"\"\"\n",
    "    return num**2"
   ]
  },
  {
   "cell_type": "code",
   "execution_count": 18,
   "id": "3eb2e5c5-0a0c-4f27-9ff8-cf2132c55439",
   "metadata": {},
   "outputs": [
    {
     "data": {
      "text/plain": [
       "16"
      ]
     },
     "execution_count": 18,
     "metadata": {},
     "output_type": "execute_result"
    }
   ],
   "source": [
    "output = square_of(4)\n",
    "output"
   ]
  },
  {
   "cell_type": "code",
   "execution_count": 20,
   "id": "d9cc3cee-d2c3-4e4b-ab1b-0a579d30418b",
   "metadata": {},
   "outputs": [
    {
     "data": {
      "text/plain": [
       "<function __main__.square_of(num)>"
      ]
     },
     "execution_count": 20,
     "metadata": {},
     "output_type": "execute_result"
    }
   ],
   "source": [
    "square_of #press shift + Tab to view the comment lines: Docstring"
   ]
  },
  {
   "cell_type": "markdown",
   "id": "1d15ba66-8692-48a3-8a24-8cfe99c2d155",
   "metadata": {},
   "source": [
    "# map() , lambda, filter()"
   ]
  },
  {
   "cell_type": "code",
   "execution_count": 23,
   "id": "085b48a8-d1f1-47d3-8f42-5b4e60fbbceb",
   "metadata": {},
   "outputs": [],
   "source": [
    "seq = [1,2,3,4,5]"
   ]
  },
  {
   "cell_type": "code",
   "execution_count": 33,
   "id": "b4fb2563-25ce-49fb-a7ee-9b14c7a701f8",
   "metadata": {},
   "outputs": [
    {
     "data": {
      "text/plain": [
       "[2, 4, 6, 8, 10]"
      ]
     },
     "execution_count": 33,
     "metadata": {},
     "output_type": "execute_result"
    }
   ],
   "source": [
    "my_list = list(map(lambda num: num*2, seq))\n",
    "my_list"
   ]
  },
  {
   "cell_type": "code",
   "execution_count": 41,
   "id": "8d01e555-eb07-46c7-83ec-86dc9b1de884",
   "metadata": {},
   "outputs": [
    {
     "data": {
      "text/plain": [
       "[6]"
      ]
     },
     "execution_count": 41,
     "metadata": {},
     "output_type": "execute_result"
    }
   ],
   "source": [
    "list(filter(lambda num:num%3==0, my_list))"
   ]
  },
  {
   "cell_type": "code",
   "execution_count": 54,
   "id": "3dda1356-3b73-4d46-bdd1-893e003f916c",
   "metadata": {},
   "outputs": [],
   "source": [
    "s = 'Hello, my name is Aneesh'"
   ]
  },
  {
   "cell_type": "code",
   "execution_count": 56,
   "id": "acd28f28-56be-476f-bf7a-805898bb7d44",
   "metadata": {},
   "outputs": [
    {
     "data": {
      "text/plain": [
       "'hello, my name is aneesh'"
      ]
     },
     "execution_count": 56,
     "metadata": {},
     "output_type": "execute_result"
    }
   ],
   "source": [
    "s.lower()"
   ]
  },
  {
   "cell_type": "code",
   "execution_count": 58,
   "id": "ee1d65b0-f458-4c4b-b6e9-dc91ef290e41",
   "metadata": {},
   "outputs": [
    {
     "data": {
      "text/plain": [
       "'HELLO, MY NAME IS ANEESH'"
      ]
     },
     "execution_count": 58,
     "metadata": {},
     "output_type": "execute_result"
    }
   ],
   "source": [
    "s.upper()"
   ]
  },
  {
   "cell_type": "code",
   "execution_count": 60,
   "id": "97f10898-7978-4a7d-a01e-37c9a8d38df7",
   "metadata": {},
   "outputs": [
    {
     "data": {
      "text/plain": [
       "['Hello,', 'my', 'name', 'is', 'Aneesh']"
      ]
     },
     "execution_count": 60,
     "metadata": {},
     "output_type": "execute_result"
    }
   ],
   "source": [
    "s.split()"
   ]
  },
  {
   "cell_type": "code",
   "execution_count": 64,
   "id": "3613c69e-40f6-44d7-875d-c41d4428801f",
   "metadata": {},
   "outputs": [
    {
     "data": {
      "text/plain": [
       "['Hello', ' my name is Aneesh']"
      ]
     },
     "execution_count": 64,
     "metadata": {},
     "output_type": "execute_result"
    }
   ],
   "source": [
    "s.split(',')"
   ]
  },
  {
   "cell_type": "code",
   "execution_count": 66,
   "id": "cf608b12-3846-40d2-92ec-4eec00ff7dbf",
   "metadata": {},
   "outputs": [
    {
     "data": {
      "text/plain": [
       "' my name is Aneesh'"
      ]
     },
     "execution_count": 66,
     "metadata": {},
     "output_type": "execute_result"
    }
   ],
   "source": [
    "s.split(',')[1]"
   ]
  },
  {
   "cell_type": "code",
   "execution_count": null,
   "id": "32ddc9a0-f3e0-45eb-b911-4c0a1f6b1719",
   "metadata": {},
   "outputs": [],
   "source": []
  }
 ],
 "metadata": {
  "kernelspec": {
   "display_name": "Python [conda env:base] *",
   "language": "python",
   "name": "conda-base-py"
  },
  "language_info": {
   "codemirror_mode": {
    "name": "ipython",
    "version": 3
   },
   "file_extension": ".py",
   "mimetype": "text/x-python",
   "name": "python",
   "nbconvert_exporter": "python",
   "pygments_lexer": "ipython3",
   "version": "3.12.7"
  }
 },
 "nbformat": 4,
 "nbformat_minor": 5
}
