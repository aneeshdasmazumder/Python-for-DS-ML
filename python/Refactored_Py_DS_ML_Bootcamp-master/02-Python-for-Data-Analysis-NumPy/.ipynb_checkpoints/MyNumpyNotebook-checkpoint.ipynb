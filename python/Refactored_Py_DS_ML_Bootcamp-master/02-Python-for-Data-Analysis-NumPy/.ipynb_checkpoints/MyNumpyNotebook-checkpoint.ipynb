{
 "cells": [
  {
   "cell_type": "markdown",
   "id": "de5a1ac0-2644-415d-af32-8b64e4d8e0f2",
   "metadata": {},
   "source": [
    "# NumPy Arrays"
   ]
  },
  {
   "cell_type": "code",
   "execution_count": 50,
   "id": "46a00774-8399-4f26-a8e1-7ebdb65daf36",
   "metadata": {},
   "outputs": [],
   "source": [
    "my_list = [1,2,3,4,5,6,7,8]"
   ]
  },
  {
   "cell_type": "code",
   "execution_count": 52,
   "id": "cc9f5014-f54a-4760-b6fb-232fce78af27",
   "metadata": {},
   "outputs": [],
   "source": [
    "import numpy as np"
   ]
  },
  {
   "cell_type": "code",
   "execution_count": 186,
   "id": "288b1bd3-efb9-4f89-9d36-02e5d9bf42cb",
   "metadata": {},
   "outputs": [],
   "source": [
    "arr = np.array(my_list) # casting python list to arrays"
   ]
  },
  {
   "cell_type": "code",
   "execution_count": 188,
   "id": "cc444fa8-8395-4718-a715-89387ef64a33",
   "metadata": {},
   "outputs": [
    {
     "data": {
      "text/plain": [
       "array([1, 2, 3, 4, 5, 6, 7, 8])"
      ]
     },
     "execution_count": 188,
     "metadata": {},
     "output_type": "execute_result"
    }
   ],
   "source": [
    "arr"
   ]
  },
  {
   "cell_type": "code",
   "execution_count": 14,
   "id": "56e57aaf-f20e-4286-99a6-27844838072f",
   "metadata": {},
   "outputs": [],
   "source": [
    "my_mat = [[1,2,3],[4,5,6],[7,8,9]]"
   ]
  },
  {
   "cell_type": "code",
   "execution_count": 16,
   "id": "d04f02ab-17c3-4750-ad36-b21975835190",
   "metadata": {},
   "outputs": [
    {
     "data": {
      "text/plain": [
       "array([[1, 2, 3],\n",
       "       [4, 5, 6],\n",
       "       [7, 8, 9]])"
      ]
     },
     "execution_count": 16,
     "metadata": {},
     "output_type": "execute_result"
    }
   ],
   "source": [
    "np.array(my_mat)"
   ]
  },
  {
   "cell_type": "code",
   "execution_count": 18,
   "id": "4dd8c1e0-7941-461f-9980-56378cad7812",
   "metadata": {},
   "outputs": [
    {
     "data": {
      "text/plain": [
       "array([0, 1, 2, 3, 4, 5, 6, 7, 8, 9])"
      ]
     },
     "execution_count": 18,
     "metadata": {},
     "output_type": "execute_result"
    }
   ],
   "source": [
    "np.arange(0,10)"
   ]
  },
  {
   "cell_type": "code",
   "execution_count": 20,
   "id": "02b81456-5224-4643-9ad9-51fb2b81c2b5",
   "metadata": {},
   "outputs": [
    {
     "data": {
      "text/plain": [
       "array([ 0,  2,  4,  6,  8, 10])"
      ]
     },
     "execution_count": 20,
     "metadata": {},
     "output_type": "execute_result"
    }
   ],
   "source": [
    "np.arange(0,11,2)"
   ]
  },
  {
   "cell_type": "code",
   "execution_count": 22,
   "id": "3da17722-a289-4797-bb9d-9943bfa58c68",
   "metadata": {},
   "outputs": [
    {
     "data": {
      "text/plain": [
       "array([0., 0., 0.])"
      ]
     },
     "execution_count": 22,
     "metadata": {},
     "output_type": "execute_result"
    }
   ],
   "source": [
    "np.zeros(3)"
   ]
  },
  {
   "cell_type": "code",
   "execution_count": 24,
   "id": "7a191a92-e97a-4c0e-b56c-37d72355e8e3",
   "metadata": {},
   "outputs": [
    {
     "data": {
      "text/plain": [
       "array([[0., 0., 0., 0.],\n",
       "       [0., 0., 0., 0.]])"
      ]
     },
     "execution_count": 24,
     "metadata": {},
     "output_type": "execute_result"
    }
   ],
   "source": [
    "np.zeros((2,4))"
   ]
  },
  {
   "cell_type": "code",
   "execution_count": 30,
   "id": "f1ef5b6f-6dc1-4a48-aa94-465098d74012",
   "metadata": {},
   "outputs": [
    {
     "data": {
      "text/plain": [
       "array([0.        , 0.55555556, 1.11111111, 1.66666667, 2.22222222,\n",
       "       2.77777778, 3.33333333, 3.88888889, 4.44444444, 5.        ])"
      ]
     },
     "execution_count": 30,
     "metadata": {},
     "output_type": "execute_result"
    }
   ],
   "source": [
    "np.linspace(0,5,10)"
   ]
  },
  {
   "cell_type": "code",
   "execution_count": 32,
   "id": "784f39fc-b458-4271-b43a-4c4930cf8a33",
   "metadata": {},
   "outputs": [
    {
     "data": {
      "text/plain": [
       "array([0.07589335, 0.87706411, 0.01603556, 0.43665012, 0.91207353])"
      ]
     },
     "execution_count": 32,
     "metadata": {},
     "output_type": "execute_result"
    }
   ],
   "source": [
    "np.random.rand(5)"
   ]
  },
  {
   "cell_type": "code",
   "execution_count": 34,
   "id": "eb0181ba-5caa-475e-9805-cd8fe7c43e4f",
   "metadata": {},
   "outputs": [
    {
     "data": {
      "text/plain": [
       "array([[4.07788880e-01, 8.94849023e-01, 5.55242788e-01, 4.78138304e-01,\n",
       "        7.38938623e-01],\n",
       "       [5.44260361e-01, 5.99942238e-01, 3.37679085e-01, 4.65604405e-01,\n",
       "        7.80053895e-01],\n",
       "       [7.01669471e-01, 6.03473266e-01, 9.35342006e-01, 1.70476707e-01,\n",
       "        7.43182240e-01],\n",
       "       [5.35112516e-01, 1.56193655e-01, 7.08909626e-01, 8.58220654e-03,\n",
       "        4.76578052e-01],\n",
       "       [2.09047688e-04, 1.38156380e-01, 2.16844526e-01, 4.40985350e-01,\n",
       "        5.50773074e-01]])"
      ]
     },
     "execution_count": 34,
     "metadata": {},
     "output_type": "execute_result"
    }
   ],
   "source": [
    "np.random.rand(5,5)"
   ]
  },
  {
   "cell_type": "code",
   "execution_count": 38,
   "id": "7ad37269-49b2-4a86-a898-7bd6ba7d3048",
   "metadata": {},
   "outputs": [
    {
     "data": {
      "text/plain": [
       "array([[-0.31852745, -0.81533799,  1.1153297 ],\n",
       "       [-0.12658175,  1.49192266,  0.97927243],\n",
       "       [-2.30258772,  0.99337469,  0.65945209],\n",
       "       [-0.19776718, -0.55449254, -1.05849965]])"
      ]
     },
     "execution_count": 38,
     "metadata": {},
     "output_type": "execute_result"
    }
   ],
   "source": [
    "np.random.randn(4,3)"
   ]
  },
  {
   "cell_type": "code",
   "execution_count": 58,
   "id": "2eb24cd7-29ff-4e62-b898-fbe92a1d518b",
   "metadata": {},
   "outputs": [
    {
     "data": {
      "text/plain": [
       "array([48, 24, 19, 27, 22, 80, 65, 36, 46, 81])"
      ]
     },
     "execution_count": 58,
     "metadata": {},
     "output_type": "execute_result"
    }
   ],
   "source": [
    "np.random.randint(1,100,10)"
   ]
  },
  {
   "cell_type": "code",
   "execution_count": 66,
   "id": "0efdb736-4c8b-4943-9d97-f9e7ae042cd9",
   "metadata": {},
   "outputs": [
    {
     "data": {
      "text/plain": [
       "array([[1, 2],\n",
       "       [3, 4],\n",
       "       [5, 6],\n",
       "       [7, 8]])"
      ]
     },
     "execution_count": 66,
     "metadata": {},
     "output_type": "execute_result"
    }
   ],
   "source": [
    "arr.reshape(4,2)"
   ]
  },
  {
   "cell_type": "code",
   "execution_count": 68,
   "id": "9caf930d-21d8-4c59-8df0-21f27f346e52",
   "metadata": {},
   "outputs": [
    {
     "data": {
      "text/plain": [
       "8"
      ]
     },
     "execution_count": 68,
     "metadata": {},
     "output_type": "execute_result"
    }
   ],
   "source": [
    "arr.max()"
   ]
  },
  {
   "cell_type": "code",
   "execution_count": 70,
   "id": "a4a298d3-f65a-476a-b3e9-c77f1f77d8b3",
   "metadata": {},
   "outputs": [
    {
     "data": {
      "text/plain": [
       "1"
      ]
     },
     "execution_count": 70,
     "metadata": {},
     "output_type": "execute_result"
    }
   ],
   "source": [
    "arr.min()"
   ]
  },
  {
   "cell_type": "code",
   "execution_count": 72,
   "id": "c539b61d-5fd7-4699-9b32-53d7c17a1d7f",
   "metadata": {},
   "outputs": [
    {
     "data": {
      "text/plain": [
       "7"
      ]
     },
     "execution_count": 72,
     "metadata": {},
     "output_type": "execute_result"
    }
   ],
   "source": [
    "arr.argmax()"
   ]
  },
  {
   "cell_type": "code",
   "execution_count": 74,
   "id": "ba06f8d6-83f9-41d5-b1a4-8f85a84b8979",
   "metadata": {},
   "outputs": [
    {
     "data": {
      "text/plain": [
       "(8,)"
      ]
     },
     "execution_count": 74,
     "metadata": {},
     "output_type": "execute_result"
    }
   ],
   "source": [
    "arr.shape"
   ]
  },
  {
   "cell_type": "code",
   "execution_count": 80,
   "id": "26be7951-bf8d-4848-bec0-8ab0f095ca5f",
   "metadata": {},
   "outputs": [],
   "source": [
    "arr = arr.reshape(4,2)"
   ]
  },
  {
   "cell_type": "code",
   "execution_count": 82,
   "id": "ef09a6fb-8a9a-45ed-a916-c4a23090c6c2",
   "metadata": {},
   "outputs": [
    {
     "data": {
      "text/plain": [
       "(4, 2)"
      ]
     },
     "execution_count": 82,
     "metadata": {},
     "output_type": "execute_result"
    }
   ],
   "source": [
    "arr.shape"
   ]
  },
  {
   "cell_type": "raw",
   "id": "e687a56f-b94c-4c06-9495-326aebef5362",
   "metadata": {},
   "source": []
  },
  {
   "cell_type": "code",
   "execution_count": 84,
   "id": "e515d7bd-a089-41df-b27a-0190b29b5e10",
   "metadata": {},
   "outputs": [
    {
     "data": {
      "text/plain": [
       "dtype('int32')"
      ]
     },
     "execution_count": 84,
     "metadata": {},
     "output_type": "execute_result"
    }
   ],
   "source": [
    "arr.dtype"
   ]
  },
  {
   "cell_type": "code",
   "execution_count": 86,
   "id": "dcae3e95-b720-4a35-9308-f7d1c2f8a02c",
   "metadata": {},
   "outputs": [],
   "source": [
    "from numpy.random import randint"
   ]
  },
  {
   "cell_type": "code",
   "execution_count": 90,
   "id": "8e8bd977-a9c2-4e02-846e-1e7207aceffe",
   "metadata": {},
   "outputs": [
    {
     "data": {
      "text/plain": [
       "8"
      ]
     },
     "execution_count": 90,
     "metadata": {},
     "output_type": "execute_result"
    }
   ],
   "source": [
    "randint(5,10)"
   ]
  },
  {
   "cell_type": "code",
   "execution_count": 92,
   "id": "c826a79b-eb62-40b8-a199-f1c0ede6ee5f",
   "metadata": {},
   "outputs": [],
   "source": [
    "from numpy.random import randn"
   ]
  },
  {
   "cell_type": "code",
   "execution_count": 94,
   "id": "82f274de-8cd9-4fce-828c-961e5f704fa9",
   "metadata": {},
   "outputs": [
    {
     "data": {
      "text/plain": [
       "array([[ 0.57197595,  1.71747372,  1.17123616,  1.32128327,  0.42323582,\n",
       "        -0.54604647,  0.87639798, -1.80615625, -0.99836717, -0.90835745]])"
      ]
     },
     "execution_count": 94,
     "metadata": {},
     "output_type": "execute_result"
    }
   ],
   "source": [
    "randn(1,10)"
   ]
  },
  {
   "cell_type": "markdown",
   "id": "6c6d7fd2-4aae-4c4f-90ed-12873fb14239",
   "metadata": {},
   "source": [
    "# Indexing"
   ]
  },
  {
   "cell_type": "code",
   "execution_count": 99,
   "id": "7fd1934b-2745-4a29-844f-62c19d0b5924",
   "metadata": {},
   "outputs": [],
   "source": [
    "import numpy as np"
   ]
  },
  {
   "cell_type": "code",
   "execution_count": 109,
   "id": "13c92980-c30a-46d9-a495-1bf0e4a46e04",
   "metadata": {},
   "outputs": [],
   "source": [
    "arr_np = np.arange(0,10)"
   ]
  },
  {
   "cell_type": "code",
   "execution_count": 111,
   "id": "9d751836-90aa-4dc8-a972-08e3d155751a",
   "metadata": {},
   "outputs": [
    {
     "data": {
      "text/plain": [
       "array([0, 1, 2, 3, 4, 5, 6, 7, 8, 9])"
      ]
     },
     "execution_count": 111,
     "metadata": {},
     "output_type": "execute_result"
    }
   ],
   "source": [
    "arr_np"
   ]
  },
  {
   "cell_type": "code",
   "execution_count": 113,
   "id": "b0f8230e-8e91-483c-828e-2fa0c2ac9b81",
   "metadata": {},
   "outputs": [
    {
     "data": {
      "text/plain": [
       "array([0, 1, 2, 3, 4])"
      ]
     },
     "execution_count": 113,
     "metadata": {},
     "output_type": "execute_result"
    }
   ],
   "source": [
    "arr_np[0:5]"
   ]
  },
  {
   "cell_type": "code",
   "execution_count": 115,
   "id": "c5a774fa-b95e-48b1-a66e-2de95cca76b5",
   "metadata": {},
   "outputs": [
    {
     "data": {
      "text/plain": [
       "array([2, 3, 4, 5, 6, 7, 8, 9])"
      ]
     },
     "execution_count": 115,
     "metadata": {},
     "output_type": "execute_result"
    }
   ],
   "source": [
    "arr_np[2:]"
   ]
  },
  {
   "cell_type": "code",
   "execution_count": 117,
   "id": "b11486d8-8181-43ab-99f7-11ba4cb6431e",
   "metadata": {},
   "outputs": [
    {
     "data": {
      "text/plain": [
       "array([0, 1, 2, 3, 4, 5, 6, 7])"
      ]
     },
     "execution_count": 117,
     "metadata": {},
     "output_type": "execute_result"
    }
   ],
   "source": [
    "arr_np[:8]"
   ]
  },
  {
   "cell_type": "code",
   "execution_count": 119,
   "id": "002f90ba-5e3a-4ea1-bcdd-5b97691dbbff",
   "metadata": {},
   "outputs": [
    {
     "data": {
      "text/plain": [
       "array([0, 1, 2, 3, 4, 5, 6, 7, 8, 9])"
      ]
     },
     "execution_count": 119,
     "metadata": {},
     "output_type": "execute_result"
    }
   ],
   "source": [
    "arr_np[:]"
   ]
  },
  {
   "cell_type": "code",
   "execution_count": 121,
   "id": "5dc27315-a072-49ee-8a85-cfff60715749",
   "metadata": {},
   "outputs": [],
   "source": [
    "arr_np[0:5] = 100"
   ]
  },
  {
   "cell_type": "code",
   "execution_count": 123,
   "id": "077724ab-235d-4aef-ad3f-c2cffa5ecbcd",
   "metadata": {},
   "outputs": [
    {
     "data": {
      "text/plain": [
       "array([100, 100, 100, 100, 100,   5,   6,   7,   8,   9])"
      ]
     },
     "execution_count": 123,
     "metadata": {},
     "output_type": "execute_result"
    }
   ],
   "source": [
    "arr_np"
   ]
  },
  {
   "cell_type": "code",
   "execution_count": 127,
   "id": "e9420542-3fbe-43eb-ba09-70b4f08cd6a6",
   "metadata": {},
   "outputs": [],
   "source": [
    "arr_np = np.arange(0,10)"
   ]
  },
  {
   "cell_type": "code",
   "execution_count": 129,
   "id": "845502c7-707d-43fd-9564-0da528b7e5c7",
   "metadata": {},
   "outputs": [
    {
     "data": {
      "text/plain": [
       "array([0, 1, 2, 3, 4, 5, 6, 7, 8, 9])"
      ]
     },
     "execution_count": 129,
     "metadata": {},
     "output_type": "execute_result"
    }
   ],
   "source": [
    "arr_np"
   ]
  },
  {
   "cell_type": "code",
   "execution_count": 131,
   "id": "9333c44e-9693-47d2-8f34-4d4f3d8c5767",
   "metadata": {},
   "outputs": [],
   "source": [
    "slice_of_arr_np = arr_np[0:5]"
   ]
  },
  {
   "cell_type": "code",
   "execution_count": 133,
   "id": "e7f91962-92dc-4466-8ac1-466b8a568129",
   "metadata": {},
   "outputs": [
    {
     "data": {
      "text/plain": [
       "array([0, 1, 2, 3, 4])"
      ]
     },
     "execution_count": 133,
     "metadata": {},
     "output_type": "execute_result"
    }
   ],
   "source": [
    "slice_of_arr_np"
   ]
  },
  {
   "cell_type": "code",
   "execution_count": 135,
   "id": "bbfaeb8b-731b-4189-86cb-f69160541bdb",
   "metadata": {},
   "outputs": [],
   "source": [
    "slice_of_arr_np[0:3] = 99"
   ]
  },
  {
   "cell_type": "code",
   "execution_count": 137,
   "id": "f3cb8e06-c09a-4708-985a-8fdfc81bc6b1",
   "metadata": {},
   "outputs": [
    {
     "data": {
      "text/plain": [
       "array([99, 99, 99,  3,  4])"
      ]
     },
     "execution_count": 137,
     "metadata": {},
     "output_type": "execute_result"
    }
   ],
   "source": [
    "slice_of_arr_np"
   ]
  },
  {
   "cell_type": "code",
   "execution_count": 167,
   "id": "7fb32176-d886-4d1e-94b4-f9e1e7460dd6",
   "metadata": {},
   "outputs": [
    {
     "data": {
      "text/plain": [
       "array([99, 99, 99,  3,  4,  5,  6,  7,  8,  9])"
      ]
     },
     "execution_count": 167,
     "metadata": {},
     "output_type": "execute_result"
    }
   ],
   "source": [
    "arr_np"
   ]
  },
  {
   "cell_type": "markdown",
   "id": "45a2ae18-aea7-40e8-9ff8-d52146663ac0",
   "metadata": {},
   "source": [
    "# Copy Array"
   ]
  },
  {
   "cell_type": "code",
   "execution_count": 141,
   "id": "1178b36a-4fb6-47d5-8e1a-be3387356029",
   "metadata": {},
   "outputs": [],
   "source": [
    "\n",
    "arr_copy = arr_np.copy()"
   ]
  },
  {
   "cell_type": "code",
   "execution_count": 143,
   "id": "2ae9446a-cdf3-40e1-9e52-cd662ab5e80c",
   "metadata": {},
   "outputs": [
    {
     "data": {
      "text/plain": [
       "array([99, 99, 99,  3,  4,  5,  6,  7,  8,  9])"
      ]
     },
     "execution_count": 143,
     "metadata": {},
     "output_type": "execute_result"
    }
   ],
   "source": [
    "arr_copy"
   ]
  },
  {
   "cell_type": "code",
   "execution_count": 145,
   "id": "0724c68a-0bf9-4204-bf93-2c739920c3d8",
   "metadata": {},
   "outputs": [],
   "source": [
    "arr_copy[:] = 100"
   ]
  },
  {
   "cell_type": "code",
   "execution_count": 147,
   "id": "9b9d5349-92a0-4baf-bc8f-eb0a9da3a801",
   "metadata": {},
   "outputs": [
    {
     "data": {
      "text/plain": [
       "array([100, 100, 100, 100, 100, 100, 100, 100, 100, 100])"
      ]
     },
     "execution_count": 147,
     "metadata": {},
     "output_type": "execute_result"
    }
   ],
   "source": [
    "arr_copy"
   ]
  },
  {
   "cell_type": "code",
   "execution_count": 170,
   "id": "57686276-6316-4c55-892d-10be6e771790",
   "metadata": {},
   "outputs": [
    {
     "data": {
      "text/plain": [
       "array([99, 99, 99,  3,  4,  5,  6,  7,  8,  9])"
      ]
     },
     "execution_count": 170,
     "metadata": {},
     "output_type": "execute_result"
    }
   ],
   "source": [
    "arr_np"
   ]
  },
  {
   "cell_type": "markdown",
   "id": "24d28713-7abf-4343-bc4c-ee47e6a45b3b",
   "metadata": {},
   "source": [
    "# 2D Array"
   ]
  },
  {
   "cell_type": "code",
   "execution_count": 157,
   "id": "525e093b-308b-461e-b285-0078a48366f6",
   "metadata": {},
   "outputs": [],
   "source": [
    "\n",
    "arr_2d = np.array([[1,2,3],[4,5,6],[7,8,9]])"
   ]
  },
  {
   "cell_type": "code",
   "execution_count": 159,
   "id": "92fa6da0-099a-4f06-9e1a-f255b811ed5f",
   "metadata": {},
   "outputs": [
    {
     "data": {
      "text/plain": [
       "array([[1, 2, 3],\n",
       "       [4, 5, 6],\n",
       "       [7, 8, 9]])"
      ]
     },
     "execution_count": 159,
     "metadata": {},
     "output_type": "execute_result"
    }
   ],
   "source": [
    "arr_2d"
   ]
  },
  {
   "cell_type": "code",
   "execution_count": 161,
   "id": "d774e784-8461-4462-825b-d8723842086d",
   "metadata": {},
   "outputs": [
    {
     "data": {
      "text/plain": [
       "array([[1, 2, 3],\n",
       "       [4, 5, 6]])"
      ]
     },
     "execution_count": 161,
     "metadata": {},
     "output_type": "execute_result"
    }
   ],
   "source": [
    "arr_2d[:2]"
   ]
  },
  {
   "cell_type": "code",
   "execution_count": 163,
   "id": "981f8bc2-2f6e-46f8-ba0b-6e0e70d4ffe3",
   "metadata": {},
   "outputs": [
    {
     "data": {
      "text/plain": [
       "array([[2, 3],\n",
       "       [5, 6],\n",
       "       [8, 9]])"
      ]
     },
     "execution_count": 163,
     "metadata": {},
     "output_type": "execute_result"
    }
   ],
   "source": [
    "arr_2d[:,1:]"
   ]
  },
  {
   "cell_type": "code",
   "execution_count": 165,
   "id": "6e44663c-cba2-49df-9787-f33376fa41cb",
   "metadata": {},
   "outputs": [
    {
     "data": {
      "text/plain": [
       "array([[2, 3],\n",
       "       [5, 6]])"
      ]
     },
     "execution_count": 165,
     "metadata": {},
     "output_type": "execute_result"
    }
   ],
   "source": [
    "arr_2d[:2,1:]"
   ]
  },
  {
   "cell_type": "markdown",
   "id": "38a6c939-3c6e-4dc0-ad30-6e3197d9757f",
   "metadata": {},
   "source": [
    "# Boolean Array"
   ]
  },
  {
   "cell_type": "code",
   "execution_count": 190,
   "id": "d27ce4da-13a8-4434-975e-08cca5502db0",
   "metadata": {},
   "outputs": [],
   "source": [
    "arr_b = np.arange(1,11)"
   ]
  },
  {
   "cell_type": "code",
   "execution_count": 192,
   "id": "61ba5d1f-6e78-4c5d-a998-bc154301a199",
   "metadata": {},
   "outputs": [
    {
     "data": {
      "text/plain": [
       "array([ 1,  2,  3,  4,  5,  6,  7,  8,  9, 10])"
      ]
     },
     "execution_count": 192,
     "metadata": {},
     "output_type": "execute_result"
    }
   ],
   "source": [
    "arr_b"
   ]
  },
  {
   "cell_type": "code",
   "execution_count": 194,
   "id": "f7336cb7-19d2-4c0e-b7bf-02aa89e5d001",
   "metadata": {},
   "outputs": [],
   "source": [
    "bool_arr = arr_b > 5"
   ]
  },
  {
   "cell_type": "code",
   "execution_count": 196,
   "id": "9dc458bb-1127-4b8b-83b3-c3a08c0b2d8e",
   "metadata": {},
   "outputs": [
    {
     "data": {
      "text/plain": [
       "array([False, False, False, False, False,  True,  True,  True,  True,\n",
       "        True])"
      ]
     },
     "execution_count": 196,
     "metadata": {},
     "output_type": "execute_result"
    }
   ],
   "source": [
    "bool_arr"
   ]
  },
  {
   "cell_type": "code",
   "execution_count": 198,
   "id": "5104d76a-8e50-405a-bf3d-0df847a8046a",
   "metadata": {},
   "outputs": [
    {
     "data": {
      "text/plain": [
       "array([ 1,  2,  3,  4,  5,  6,  7,  8,  9, 10])"
      ]
     },
     "execution_count": 198,
     "metadata": {},
     "output_type": "execute_result"
    }
   ],
   "source": [
    "arr_b"
   ]
  },
  {
   "cell_type": "code",
   "execution_count": 200,
   "id": "1865fb60-05cd-4f0e-b04b-355ada8b19c6",
   "metadata": {},
   "outputs": [
    {
     "data": {
      "text/plain": [
       "array([ 6,  7,  8,  9, 10])"
      ]
     },
     "execution_count": 200,
     "metadata": {},
     "output_type": "execute_result"
    }
   ],
   "source": [
    "arr_b[bool_arr]"
   ]
  },
  {
   "cell_type": "code",
   "execution_count": 202,
   "id": "1b7a5cf7-8148-41f1-bea9-71ed9119744b",
   "metadata": {},
   "outputs": [
    {
     "data": {
      "text/plain": [
       "array([ 1,  2,  3,  4,  5,  6,  7,  8,  9, 10])"
      ]
     },
     "execution_count": 202,
     "metadata": {},
     "output_type": "execute_result"
    }
   ],
   "source": [
    "arr_b"
   ]
  },
  {
   "cell_type": "code",
   "execution_count": 204,
   "id": "c19c140c-03cc-469f-8667-8bb5748dd5e3",
   "metadata": {},
   "outputs": [
    {
     "data": {
      "text/plain": [
       "array([ 6,  7,  8,  9, 10])"
      ]
     },
     "execution_count": 204,
     "metadata": {},
     "output_type": "execute_result"
    }
   ],
   "source": [
    "arr_b[arr_b > 5]"
   ]
  },
  {
   "cell_type": "code",
   "execution_count": 206,
   "id": "1d8f3b8e-d5d5-4b64-8012-68b8e04cbdfe",
   "metadata": {},
   "outputs": [
    {
     "data": {
      "text/plain": [
       "array([1, 2, 3, 4])"
      ]
     },
     "execution_count": 206,
     "metadata": {},
     "output_type": "execute_result"
    }
   ],
   "source": [
    "arr_b[arr_b < 5]"
   ]
  },
  {
   "cell_type": "code",
   "execution_count": 208,
   "id": "95c4bfef-f545-41f4-846d-c52c2013786c",
   "metadata": {},
   "outputs": [],
   "source": [
    "arr_2d_new = np.arange(50).reshape(5,10)"
   ]
  },
  {
   "cell_type": "code",
   "execution_count": 210,
   "id": "964911e7-7280-4c26-8a1e-925179699631",
   "metadata": {},
   "outputs": [
    {
     "data": {
      "text/plain": [
       "array([[ 0,  1,  2,  3,  4,  5,  6,  7,  8,  9],\n",
       "       [10, 11, 12, 13, 14, 15, 16, 17, 18, 19],\n",
       "       [20, 21, 22, 23, 24, 25, 26, 27, 28, 29],\n",
       "       [30, 31, 32, 33, 34, 35, 36, 37, 38, 39],\n",
       "       [40, 41, 42, 43, 44, 45, 46, 47, 48, 49]])"
      ]
     },
     "execution_count": 210,
     "metadata": {},
     "output_type": "execute_result"
    }
   ],
   "source": [
    "arr_2d_new"
   ]
  },
  {
   "cell_type": "code",
   "execution_count": 214,
   "id": "5d421e97-fc94-424b-aa96-581f45c84c54",
   "metadata": {},
   "outputs": [
    {
     "data": {
      "text/plain": [
       "array([[10, 11, 12, 13, 14, 15, 16, 17, 18, 19],\n",
       "       [20, 21, 22, 23, 24, 25, 26, 27, 28, 29]])"
      ]
     },
     "execution_count": 214,
     "metadata": {},
     "output_type": "execute_result"
    }
   ],
   "source": [
    "# Grabbing chunk\n",
    "arr_2d_new[1:3]"
   ]
  },
  {
   "cell_type": "code",
   "execution_count": 220,
   "id": "b4118641-8d69-41e3-b824-8567cec01dee",
   "metadata": {},
   "outputs": [
    {
     "data": {
      "text/plain": [
       "array([[13, 14],\n",
       "       [23, 24]])"
      ]
     },
     "execution_count": 220,
     "metadata": {},
     "output_type": "execute_result"
    }
   ],
   "source": [
    "arr_2d_new[1:3,3:5]"
   ]
  },
  {
   "cell_type": "code",
   "execution_count": null,
   "id": "aba09536-bd7c-404f-be7c-bccf805b8c7c",
   "metadata": {},
   "outputs": [],
   "source": []
  }
 ],
 "metadata": {
  "kernelspec": {
   "display_name": "Python [conda env:base] *",
   "language": "python",
   "name": "conda-base-py"
  },
  "language_info": {
   "codemirror_mode": {
    "name": "ipython",
    "version": 3
   },
   "file_extension": ".py",
   "mimetype": "text/x-python",
   "name": "python",
   "nbconvert_exporter": "python",
   "pygments_lexer": "ipython3",
   "version": "3.12.7"
  }
 },
 "nbformat": 4,
 "nbformat_minor": 5
}
